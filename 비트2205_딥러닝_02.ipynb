{
  "nbformat": 4,
  "nbformat_minor": 0,
  "metadata": {
    "colab": {
      "name": "비트2205 딥러닝 02.ipynb",
      "provenance": [],
      "collapsed_sections": [],
      "authorship_tag": "ABX9TyMiFMwLx9+wNWY618E3hBGO",
      "include_colab_link": true
    },
    "kernelspec": {
      "name": "python3",
      "display_name": "Python 3"
    },
    "language_info": {
      "name": "python"
    }
  },
  "cells": [
    {
      "cell_type": "markdown",
      "metadata": {
        "id": "view-in-github",
        "colab_type": "text"
      },
      "source": [
        "<a href=\"https://colab.research.google.com/github/jinyoungmoonDEV/Academy_Python_DeepLearning/blob/main/%EB%B9%84%ED%8A%B82205_%EB%94%A5%EB%9F%AC%EB%8B%9D_02.ipynb\" target=\"_parent\"><img src=\"https://colab.research.google.com/assets/colab-badge.svg\" alt=\"Open In Colab\"/></a>"
      ]
    },
    {
      "cell_type": "markdown",
      "source": [
        "# 모델 및 상태 저장"
      ],
      "metadata": {
        "id": "cUfeK6eeeDCj"
      }
    },
    {
      "cell_type": "code",
      "execution_count": null,
      "metadata": {
        "id": "D_TjXwGgd1EG"
      },
      "outputs": [],
      "source": [
        "from tensorflow import keras\n",
        "(train_input,train_target),(test_input,test_target) =\\\n",
        "  keras.datasets.fashion_mnist.load_data()\n",
        "train_scaled = train_input/255.0\n",
        "test_scaled = test_input/255.0 "
      ]
    },
    {
      "cell_type": "code",
      "source": [
        "model = keras.Sequential()\n",
        "model.add(keras.layers.Flatten(input_shape=(28,28)))\n",
        "model.add(keras.layers.Dense(100,activation='sigmoid',input_shape=(784,)))\n",
        "model.add(keras.layers.Dropout(0.5))\n",
        "model.add(keras.layers.Dense(10,activation='softmax'))\n",
        "model.compile(optimizer='adam',loss=keras.losses.sparse_categorical_crossentropy,metrics='accuracy')\n",
        "model.summary()"
      ],
      "metadata": {
        "colab": {
          "base_uri": "https://localhost:8080/"
        },
        "id": "xiOXHG5LhYtR",
        "outputId": "feebf793-2085-4495-8e55-48e866d290a7"
      },
      "execution_count": null,
      "outputs": [
        {
          "output_type": "stream",
          "name": "stdout",
          "text": [
            "Model: \"sequential_1\"\n",
            "_________________________________________________________________\n",
            " Layer (type)                Output Shape              Param #   \n",
            "=================================================================\n",
            " flatten_1 (Flatten)         (None, 784)               0         \n",
            "                                                                 \n",
            " dense_2 (Dense)             (None, 100)               78500     \n",
            "                                                                 \n",
            " dropout_1 (Dropout)         (None, 100)               0         \n",
            "                                                                 \n",
            " dense_3 (Dense)             (None, 10)                1010      \n",
            "                                                                 \n",
            "=================================================================\n",
            "Total params: 79,510\n",
            "Trainable params: 79,510\n",
            "Non-trainable params: 0\n",
            "_________________________________________________________________\n"
          ]
        }
      ]
    },
    {
      "cell_type": "code",
      "source": [
        "hist = model.fit(train_scaled, train_target, epochs=30, validation_split=0.2)"
      ],
      "metadata": {
        "colab": {
          "base_uri": "https://localhost:8080/"
        },
        "id": "5puLx91_ii-q",
        "outputId": "551fe6a0-c4a4-4697-ec8e-6b26eb57c0d3"
      },
      "execution_count": null,
      "outputs": [
        {
          "output_type": "stream",
          "name": "stdout",
          "text": [
            "Epoch 1/30\n",
            "1500/1500 [==============================] - 6s 4ms/step - loss: 0.7405 - accuracy: 0.7451 - val_loss: 0.4736 - val_accuracy: 0.8261\n",
            "Epoch 2/30\n",
            "1500/1500 [==============================] - 5s 3ms/step - loss: 0.5099 - accuracy: 0.8204 - val_loss: 0.4184 - val_accuracy: 0.8459\n",
            "Epoch 3/30\n",
            "1500/1500 [==============================] - 5s 3ms/step - loss: 0.4651 - accuracy: 0.8353 - val_loss: 0.4025 - val_accuracy: 0.8487\n",
            "Epoch 4/30\n",
            "1500/1500 [==============================] - 4s 3ms/step - loss: 0.4429 - accuracy: 0.8400 - val_loss: 0.3907 - val_accuracy: 0.8552\n",
            "Epoch 5/30\n",
            "1500/1500 [==============================] - 5s 3ms/step - loss: 0.4260 - accuracy: 0.8483 - val_loss: 0.3783 - val_accuracy: 0.8597\n",
            "Epoch 6/30\n",
            "1500/1500 [==============================] - 4s 3ms/step - loss: 0.4148 - accuracy: 0.8509 - val_loss: 0.3632 - val_accuracy: 0.8668\n",
            "Epoch 7/30\n",
            "1500/1500 [==============================] - 4s 3ms/step - loss: 0.4039 - accuracy: 0.8554 - val_loss: 0.3534 - val_accuracy: 0.8691\n",
            "Epoch 8/30\n",
            "1500/1500 [==============================] - 4s 3ms/step - loss: 0.3939 - accuracy: 0.8586 - val_loss: 0.3543 - val_accuracy: 0.8708\n",
            "Epoch 9/30\n",
            "1500/1500 [==============================] - 4s 3ms/step - loss: 0.3858 - accuracy: 0.8607 - val_loss: 0.3462 - val_accuracy: 0.8711\n",
            "Epoch 10/30\n",
            "1500/1500 [==============================] - 4s 3ms/step - loss: 0.3769 - accuracy: 0.8641 - val_loss: 0.3445 - val_accuracy: 0.8762\n",
            "Epoch 11/30\n",
            "1500/1500 [==============================] - 4s 3ms/step - loss: 0.3701 - accuracy: 0.8662 - val_loss: 0.3411 - val_accuracy: 0.8770\n",
            "Epoch 12/30\n",
            "1500/1500 [==============================] - 5s 3ms/step - loss: 0.3683 - accuracy: 0.8669 - val_loss: 0.3332 - val_accuracy: 0.8795\n",
            "Epoch 13/30\n",
            "1500/1500 [==============================] - 4s 3ms/step - loss: 0.3630 - accuracy: 0.8685 - val_loss: 0.3419 - val_accuracy: 0.8742\n",
            "Epoch 14/30\n",
            "1500/1500 [==============================] - 5s 3ms/step - loss: 0.3549 - accuracy: 0.8699 - val_loss: 0.3297 - val_accuracy: 0.8803\n",
            "Epoch 15/30\n",
            "1500/1500 [==============================] - 4s 3ms/step - loss: 0.3524 - accuracy: 0.8721 - val_loss: 0.3268 - val_accuracy: 0.8820\n",
            "Epoch 16/30\n",
            "1500/1500 [==============================] - 4s 3ms/step - loss: 0.3465 - accuracy: 0.8741 - val_loss: 0.3246 - val_accuracy: 0.8825\n",
            "Epoch 17/30\n",
            "1500/1500 [==============================] - 4s 3ms/step - loss: 0.3438 - accuracy: 0.8739 - val_loss: 0.3303 - val_accuracy: 0.8827\n",
            "Epoch 18/30\n",
            "1500/1500 [==============================] - 5s 4ms/step - loss: 0.3389 - accuracy: 0.8763 - val_loss: 0.3313 - val_accuracy: 0.8772\n",
            "Epoch 19/30\n",
            "1500/1500 [==============================] - 5s 3ms/step - loss: 0.3368 - accuracy: 0.8768 - val_loss: 0.3224 - val_accuracy: 0.8817\n",
            "Epoch 20/30\n",
            "1500/1500 [==============================] - 5s 3ms/step - loss: 0.3333 - accuracy: 0.8792 - val_loss: 0.3278 - val_accuracy: 0.8823\n",
            "Epoch 21/30\n",
            "1500/1500 [==============================] - 5s 3ms/step - loss: 0.3307 - accuracy: 0.8792 - val_loss: 0.3243 - val_accuracy: 0.8849\n",
            "Epoch 22/30\n",
            "1500/1500 [==============================] - 4s 3ms/step - loss: 0.3281 - accuracy: 0.8792 - val_loss: 0.3208 - val_accuracy: 0.8822\n",
            "Epoch 23/30\n",
            "1500/1500 [==============================] - 4s 3ms/step - loss: 0.3251 - accuracy: 0.8801 - val_loss: 0.3228 - val_accuracy: 0.8842\n",
            "Epoch 24/30\n",
            "1500/1500 [==============================] - 4s 3ms/step - loss: 0.3232 - accuracy: 0.8814 - val_loss: 0.3212 - val_accuracy: 0.8858\n",
            "Epoch 25/30\n",
            "1500/1500 [==============================] - 5s 3ms/step - loss: 0.3189 - accuracy: 0.8830 - val_loss: 0.3209 - val_accuracy: 0.8823\n",
            "Epoch 26/30\n",
            "1500/1500 [==============================] - 5s 3ms/step - loss: 0.3181 - accuracy: 0.8828 - val_loss: 0.3199 - val_accuracy: 0.8854\n",
            "Epoch 27/30\n",
            "1500/1500 [==============================] - 5s 3ms/step - loss: 0.3151 - accuracy: 0.8841 - val_loss: 0.3172 - val_accuracy: 0.8853\n",
            "Epoch 28/30\n",
            "1500/1500 [==============================] - 5s 3ms/step - loss: 0.3122 - accuracy: 0.8851 - val_loss: 0.3167 - val_accuracy: 0.8868\n",
            "Epoch 29/30\n",
            "1500/1500 [==============================] - 4s 3ms/step - loss: 0.3113 - accuracy: 0.8857 - val_loss: 0.3184 - val_accuracy: 0.8876\n",
            "Epoch 30/30\n",
            "1500/1500 [==============================] - 5s 3ms/step - loss: 0.3083 - accuracy: 0.8852 - val_loss: 0.3174 - val_accuracy: 0.8849\n"
          ]
        }
      ]
    },
    {
      "cell_type": "code",
      "source": [
        "model.save_weights('model-weights.h5')"
      ],
      "metadata": {
        "id": "hFP7PE-xi1qW"
      },
      "execution_count": null,
      "outputs": []
    },
    {
      "cell_type": "code",
      "source": [
        "model.save('model-whole.h5')"
      ],
      "metadata": {
        "id": "jHgT2GfjjAUh"
      },
      "execution_count": null,
      "outputs": []
    },
    {
      "cell_type": "code",
      "source": [
        "!ls -al"
      ],
      "metadata": {
        "colab": {
          "base_uri": "https://localhost:8080/"
        },
        "id": "dLG2pGpjjJQZ",
        "outputId": "d7c7fe10-72b7-47fd-e75d-a917b8c582d8"
      },
      "execution_count": null,
      "outputs": [
        {
          "output_type": "stream",
          "name": "stdout",
          "text": [
            "total 1304\n",
            "drwxr-xr-x 1 root root   4096 May 18 00:28 .\n",
            "drwxr-xr-x 1 root root   4096 May 18 00:15 ..\n",
            "drwxr-xr-x 4 root root   4096 May 16 13:23 .config\n",
            "-rw-r--r-- 1 root root 333448 May 18 00:28 model-weights.h5\n",
            "-rw-r--r-- 1 root root 982664 May 18 00:28 model-whole.h5\n",
            "drwxr-xr-x 1 root root   4096 May 16 13:24 sample_data\n"
          ]
        }
      ]
    },
    {
      "cell_type": "code",
      "source": [
        "import sys\n",
        "print(sys.path)"
      ],
      "metadata": {
        "colab": {
          "base_uri": "https://localhost:8080/"
        },
        "id": "T3B7ePafkkNW",
        "outputId": "b644aec8-1bd2-4125-b5e2-e730205384c0"
      },
      "execution_count": null,
      "outputs": [
        {
          "output_type": "stream",
          "name": "stdout",
          "text": [
            "['', '/content', '/env/python', '/usr/lib/python37.zip', '/usr/lib/python3.7', '/usr/lib/python3.7/lib-dynload', '/usr/local/lib/python3.7/dist-packages', '/usr/lib/python3/dist-packages', '/usr/local/lib/python3.7/dist-packages/IPython/extensions', '/root/.ipython']\n"
          ]
        }
      ]
    },
    {
      "cell_type": "code",
      "source": [
        "model2 = keras.models.load_model('model-whole.h5')\n",
        "model2.summary()"
      ],
      "metadata": {
        "id": "4bGAgCvokAKZ"
      },
      "execution_count": null,
      "outputs": []
    },
    {
      "cell_type": "code",
      "source": [
        "print(model2.weights)"
      ],
      "metadata": {
        "id": "Gb30fXN5kyeF"
      },
      "execution_count": null,
      "outputs": []
    },
    {
      "cell_type": "code",
      "source": [
        "model2.evaluate(test_scaled,test_target)"
      ],
      "metadata": {
        "colab": {
          "base_uri": "https://localhost:8080/"
        },
        "id": "48bfBupsk8n2",
        "outputId": "feca6e38-e905-4795-c25f-9fc490bc4ad3"
      },
      "execution_count": null,
      "outputs": [
        {
          "output_type": "stream",
          "name": "stdout",
          "text": [
            "313/313 [==============================] - 1s 3ms/step - loss: 0.3511 - accuracy: 0.8748\n"
          ]
        },
        {
          "output_type": "execute_result",
          "data": {
            "text/plain": [
              "[0.35112297534942627, 0.8748000264167786]"
            ]
          },
          "metadata": {},
          "execution_count": 23
        }
      ]
    },
    {
      "cell_type": "markdown",
      "source": [
        "# 콜백\n",
        "\n",
        "호출 방향이 반대"
      ],
      "metadata": {
        "id": "rXgdTTtSlW3v"
      }
    },
    {
      "cell_type": "code",
      "source": [
        "def add(a,b):\n",
        "  print(f\"add:{a},{b}\")\n",
        "  return a+b"
      ],
      "metadata": {
        "id": "KFbhuMjGlDU-"
      },
      "execution_count": null,
      "outputs": []
    },
    {
      "cell_type": "code",
      "source": [
        "def sub(a,b):\n",
        "  print(f\"add:{a},{b}\")\n",
        "  return a+b"
      ],
      "metadata": {
        "id": "eCjg_2g3m8_G"
      },
      "execution_count": null,
      "outputs": []
    },
    {
      "cell_type": "code",
      "source": [
        "def doall(ls1,ls2,fn):\n",
        "  s=[]\n",
        "  for i in range(len(ls1)):\n",
        "    s.append(fn(ls1[i],ls2[i]))\n",
        "  return s"
      ],
      "metadata": {
        "id": "ehk-HMcMmK4P"
      },
      "execution_count": null,
      "outputs": []
    },
    {
      "cell_type": "code",
      "source": [
        "re = doall([1,2,3],[4,5,6],add)\n",
        "print(re)"
      ],
      "metadata": {
        "colab": {
          "base_uri": "https://localhost:8080/"
        },
        "id": "iG9boWjBmk08",
        "outputId": "52588673-8272-486b-ad46-fa084c91379b"
      },
      "execution_count": null,
      "outputs": [
        {
          "output_type": "stream",
          "name": "stdout",
          "text": [
            "add:1,4\n",
            "add:2,5\n",
            "add:3,6\n",
            "[5, 7, 9]\n"
          ]
        }
      ]
    },
    {
      "cell_type": "code",
      "source": [
        "re = doall([1,2,3],[4,5,6],sub)\n",
        "print(re)"
      ],
      "metadata": {
        "colab": {
          "base_uri": "https://localhost:8080/"
        },
        "id": "KWT78Dgam5Ru",
        "outputId": "7162a798-4522-4bf7-8884-3ccea575e142"
      },
      "execution_count": null,
      "outputs": [
        {
          "output_type": "stream",
          "name": "stdout",
          "text": [
            "add:1,4\n",
            "add:2,5\n",
            "add:3,6\n",
            "[5, 7, 9]\n"
          ]
        }
      ]
    },
    {
      "cell_type": "code",
      "source": [
        "model = keras.Sequential()\n",
        "model.add(keras.layers.Flatten(input_shape=(28,28)))\n",
        "model.add(keras.layers.Dense(100,activation='sigmoid',input_shape=(784,)))\n",
        "model.add(keras.layers.Dropout(0.5))\n",
        "model.add(keras.layers.Dense(10,activation='softmax'))\n",
        "model.compile(optimizer='adam',loss=keras.losses.sparse_categorical_crossentropy,metrics='accuracy')\n",
        "model.summary()"
      ],
      "metadata": {
        "colab": {
          "base_uri": "https://localhost:8080/"
        },
        "id": "w9MefRqIr1fu",
        "outputId": "9d6e20d4-6eeb-43b6-cc80-b40c5b472876"
      },
      "execution_count": null,
      "outputs": [
        {
          "output_type": "stream",
          "name": "stdout",
          "text": [
            "Model: \"sequential_3\"\n",
            "_________________________________________________________________\n",
            " Layer (type)                Output Shape              Param #   \n",
            "=================================================================\n",
            " flatten_3 (Flatten)         (None, 784)               0         \n",
            "                                                                 \n",
            " dense_6 (Dense)             (None, 100)               78500     \n",
            "                                                                 \n",
            " dropout_3 (Dropout)         (None, 100)               0         \n",
            "                                                                 \n",
            " dense_7 (Dense)             (None, 10)                1010      \n",
            "                                                                 \n",
            "=================================================================\n",
            "Total params: 79,510\n",
            "Trainable params: 79,510\n",
            "Non-trainable params: 0\n",
            "_________________________________________________________________\n"
          ]
        }
      ]
    },
    {
      "cell_type": "code",
      "source": [
        "checkpoint_cb = keras.callbacks.ModelCheckpoint('best-model.h5',save_best_only=True)\n",
        "hist = model.fit(train_scaled, train_target, epochs=30, validation_split=0.2,callbacks=[checkpoint_cb])"
      ],
      "metadata": {
        "colab": {
          "base_uri": "https://localhost:8080/"
        },
        "id": "CLIYKUHzsTP7",
        "outputId": "df749994-fd41-4ddd-ec4b-a1534d0c60be"
      },
      "execution_count": null,
      "outputs": [
        {
          "output_type": "stream",
          "name": "stdout",
          "text": [
            "Epoch 1/30\n",
            "1500/1500 [==============================] - 5s 3ms/step - loss: 0.7403 - accuracy: 0.7448 - val_loss: 0.4800 - val_accuracy: 0.8253\n",
            "Epoch 2/30\n",
            "1500/1500 [==============================] - 5s 3ms/step - loss: 0.5163 - accuracy: 0.8170 - val_loss: 0.4246 - val_accuracy: 0.8421\n",
            "Epoch 3/30\n",
            "1500/1500 [==============================] - 4s 3ms/step - loss: 0.4700 - accuracy: 0.8328 - val_loss: 0.3982 - val_accuracy: 0.8539\n",
            "Epoch 4/30\n",
            "1500/1500 [==============================] - 4s 3ms/step - loss: 0.4449 - accuracy: 0.8422 - val_loss: 0.3812 - val_accuracy: 0.8622\n",
            "Epoch 5/30\n",
            "1500/1500 [==============================] - 5s 3ms/step - loss: 0.4275 - accuracy: 0.8469 - val_loss: 0.3747 - val_accuracy: 0.8610\n",
            "Epoch 6/30\n",
            "1500/1500 [==============================] - 5s 3ms/step - loss: 0.4128 - accuracy: 0.8519 - val_loss: 0.3660 - val_accuracy: 0.8661\n",
            "Epoch 7/30\n",
            "1500/1500 [==============================] - 4s 3ms/step - loss: 0.4024 - accuracy: 0.8559 - val_loss: 0.3572 - val_accuracy: 0.8658\n",
            "Epoch 8/30\n",
            "1500/1500 [==============================] - 5s 3ms/step - loss: 0.3933 - accuracy: 0.8591 - val_loss: 0.3586 - val_accuracy: 0.8697\n",
            "Epoch 9/30\n",
            "1500/1500 [==============================] - 4s 3ms/step - loss: 0.3864 - accuracy: 0.8614 - val_loss: 0.3639 - val_accuracy: 0.8652\n",
            "Epoch 10/30\n",
            "1500/1500 [==============================] - 5s 3ms/step - loss: 0.3789 - accuracy: 0.8633 - val_loss: 0.3464 - val_accuracy: 0.8748\n",
            "Epoch 11/30\n",
            "1500/1500 [==============================] - 4s 3ms/step - loss: 0.3733 - accuracy: 0.8662 - val_loss: 0.3391 - val_accuracy: 0.8762\n",
            "Epoch 12/30\n",
            "1500/1500 [==============================] - 4s 3ms/step - loss: 0.3673 - accuracy: 0.8671 - val_loss: 0.3387 - val_accuracy: 0.8777\n",
            "Epoch 13/30\n",
            "1500/1500 [==============================] - 4s 3ms/step - loss: 0.3623 - accuracy: 0.8693 - val_loss: 0.3342 - val_accuracy: 0.8792\n",
            "Epoch 14/30\n",
            "1500/1500 [==============================] - 4s 3ms/step - loss: 0.3580 - accuracy: 0.8706 - val_loss: 0.3333 - val_accuracy: 0.8793\n",
            "Epoch 15/30\n",
            "1500/1500 [==============================] - 4s 3ms/step - loss: 0.3527 - accuracy: 0.8701 - val_loss: 0.3292 - val_accuracy: 0.8838\n",
            "Epoch 16/30\n",
            "1500/1500 [==============================] - 4s 3ms/step - loss: 0.3490 - accuracy: 0.8725 - val_loss: 0.3246 - val_accuracy: 0.8815\n",
            "Epoch 17/30\n",
            "1500/1500 [==============================] - 4s 3ms/step - loss: 0.3448 - accuracy: 0.8744 - val_loss: 0.3263 - val_accuracy: 0.8823\n",
            "Epoch 18/30\n",
            "1500/1500 [==============================] - 4s 3ms/step - loss: 0.3424 - accuracy: 0.8761 - val_loss: 0.3273 - val_accuracy: 0.8840\n",
            "Epoch 19/30\n",
            "1500/1500 [==============================] - 4s 3ms/step - loss: 0.3409 - accuracy: 0.8766 - val_loss: 0.3280 - val_accuracy: 0.8819\n",
            "Epoch 20/30\n",
            "1500/1500 [==============================] - 4s 3ms/step - loss: 0.3372 - accuracy: 0.8772 - val_loss: 0.3258 - val_accuracy: 0.8839\n",
            "Epoch 21/30\n",
            "1500/1500 [==============================] - 4s 3ms/step - loss: 0.3299 - accuracy: 0.8786 - val_loss: 0.3221 - val_accuracy: 0.8850\n",
            "Epoch 22/30\n",
            "1500/1500 [==============================] - 4s 3ms/step - loss: 0.3300 - accuracy: 0.8791 - val_loss: 0.3251 - val_accuracy: 0.8838\n",
            "Epoch 23/30\n",
            "1500/1500 [==============================] - 5s 3ms/step - loss: 0.3254 - accuracy: 0.8806 - val_loss: 0.3233 - val_accuracy: 0.8842\n",
            "Epoch 24/30\n",
            "1500/1500 [==============================] - 5s 3ms/step - loss: 0.3233 - accuracy: 0.8816 - val_loss: 0.3191 - val_accuracy: 0.8873\n",
            "Epoch 25/30\n",
            "1500/1500 [==============================] - 4s 3ms/step - loss: 0.3226 - accuracy: 0.8809 - val_loss: 0.3219 - val_accuracy: 0.8816\n",
            "Epoch 26/30\n",
            "1500/1500 [==============================] - 4s 3ms/step - loss: 0.3200 - accuracy: 0.8826 - val_loss: 0.3225 - val_accuracy: 0.8838\n",
            "Epoch 27/30\n",
            "1500/1500 [==============================] - 5s 3ms/step - loss: 0.3171 - accuracy: 0.8827 - val_loss: 0.3185 - val_accuracy: 0.8870\n",
            "Epoch 28/30\n",
            "1500/1500 [==============================] - 5s 3ms/step - loss: 0.3164 - accuracy: 0.8834 - val_loss: 0.3172 - val_accuracy: 0.8871\n",
            "Epoch 29/30\n",
            "1500/1500 [==============================] - 5s 3ms/step - loss: 0.3132 - accuracy: 0.8842 - val_loss: 0.3214 - val_accuracy: 0.8847\n",
            "Epoch 30/30\n",
            "1500/1500 [==============================] - 5s 3ms/step - loss: 0.3079 - accuracy: 0.8865 - val_loss: 0.3161 - val_accuracy: 0.8864\n"
          ]
        }
      ]
    },
    {
      "cell_type": "code",
      "source": [
        "model3 = keras.models.load_model('best-model.h5')\n",
        "model3.summary()"
      ],
      "metadata": {
        "colab": {
          "base_uri": "https://localhost:8080/"
        },
        "id": "fIorQkFotIRf",
        "outputId": "5912d05f-1b07-4a84-b42b-45d4bcff6b30"
      },
      "execution_count": null,
      "outputs": [
        {
          "output_type": "stream",
          "name": "stdout",
          "text": [
            "Model: \"sequential_3\"\n",
            "_________________________________________________________________\n",
            " Layer (type)                Output Shape              Param #   \n",
            "=================================================================\n",
            " flatten_3 (Flatten)         (None, 784)               0         \n",
            "                                                                 \n",
            " dense_6 (Dense)             (None, 100)               78500     \n",
            "                                                                 \n",
            " dropout_3 (Dropout)         (None, 100)               0         \n",
            "                                                                 \n",
            " dense_7 (Dense)             (None, 10)                1010      \n",
            "                                                                 \n",
            "=================================================================\n",
            "Total params: 79,510\n",
            "Trainable params: 79,510\n",
            "Non-trainable params: 0\n",
            "_________________________________________________________________\n"
          ]
        }
      ]
    },
    {
      "cell_type": "code",
      "source": [
        "model3.evaluate(test_scaled,test_target)"
      ],
      "metadata": {
        "colab": {
          "base_uri": "https://localhost:8080/"
        },
        "id": "KrBmhQy4tIQb",
        "outputId": "c9b7591b-1f47-4e9f-8df4-1d174c2f7d30"
      },
      "execution_count": null,
      "outputs": [
        {
          "output_type": "stream",
          "name": "stdout",
          "text": [
            "313/313 [==============================] - 1s 2ms/step - loss: 0.3427 - accuracy: 0.8808\n"
          ]
        },
        {
          "output_type": "execute_result",
          "data": {
            "text/plain": [
              "[0.3426574766635895, 0.8808000087738037]"
            ]
          },
          "metadata": {},
          "execution_count": 41
        }
      ]
    },
    {
      "cell_type": "code",
      "source": [
        "model = keras.Sequential()\n",
        "model.add(keras.layers.Flatten(input_shape=(28,28)))\n",
        "model.add(keras.layers.Dense(100,activation='sigmoid',input_shape=(784,)))\n",
        "model.add(keras.layers.Dropout(0.5))\n",
        "model.add(keras.layers.Dense(10,activation='softmax'))\n",
        "model.compile(optimizer='adam',loss=keras.losses.sparse_categorical_crossentropy,metrics='accuracy')\n",
        "model.summary()"
      ],
      "metadata": {
        "colab": {
          "base_uri": "https://localhost:8080/"
        },
        "id": "Uwp-oy4ptwzx",
        "outputId": "8807432d-0ed5-4131-a5ec-843d8fb97205"
      },
      "execution_count": null,
      "outputs": [
        {
          "output_type": "stream",
          "name": "stdout",
          "text": [
            "Model: \"sequential_4\"\n",
            "_________________________________________________________________\n",
            " Layer (type)                Output Shape              Param #   \n",
            "=================================================================\n",
            " flatten_4 (Flatten)         (None, 784)               0         \n",
            "                                                                 \n",
            " dense_8 (Dense)             (None, 100)               78500     \n",
            "                                                                 \n",
            " dropout_4 (Dropout)         (None, 100)               0         \n",
            "                                                                 \n",
            " dense_9 (Dense)             (None, 10)                1010      \n",
            "                                                                 \n",
            "=================================================================\n",
            "Total params: 79,510\n",
            "Trainable params: 79,510\n",
            "Non-trainable params: 0\n",
            "_________________________________________________________________\n"
          ]
        }
      ]
    },
    {
      "cell_type": "code",
      "source": [
        "checkpoint_cb = keras.callbacks.ModelCheckpoint('best-model.h5',save_best_only=True)\n",
        "early_stopping_cb = keras.callbacks.EarlyStopping(patience=5,restore_best_weights=True) #5회연속으로 베스트 점수가 않나오면 오버피팅 되기전 멈추기\n",
        "hist = model.fit(train_scaled, train_target, epochs=1500, validation_split=0.2,callbacks=[checkpoint_cb,early_stopping_cb])"
      ],
      "metadata": {
        "colab": {
          "base_uri": "https://localhost:8080/"
        },
        "id": "mlv1RoTht0bB",
        "outputId": "04b1f413-27a1-4ee2-9d10-07f297cdb357"
      },
      "execution_count": null,
      "outputs": [
        {
          "output_type": "stream",
          "name": "stdout",
          "text": [
            "Epoch 1/1500\n",
            "1500/1500 [==============================] - 7s 4ms/step - loss: 0.7355 - accuracy: 0.7444 - val_loss: 0.4769 - val_accuracy: 0.8288\n",
            "Epoch 2/1500\n",
            "1500/1500 [==============================] - 5s 3ms/step - loss: 0.5144 - accuracy: 0.8184 - val_loss: 0.4326 - val_accuracy: 0.8430\n",
            "Epoch 3/1500\n",
            "1500/1500 [==============================] - 5s 4ms/step - loss: 0.4662 - accuracy: 0.8332 - val_loss: 0.3978 - val_accuracy: 0.8503\n",
            "Epoch 4/1500\n",
            "1500/1500 [==============================] - 5s 3ms/step - loss: 0.4437 - accuracy: 0.8413 - val_loss: 0.3842 - val_accuracy: 0.8566\n",
            "Epoch 5/1500\n",
            "1500/1500 [==============================] - 5s 4ms/step - loss: 0.4269 - accuracy: 0.8484 - val_loss: 0.3736 - val_accuracy: 0.8608\n",
            "Epoch 6/1500\n",
            "1500/1500 [==============================] - 6s 4ms/step - loss: 0.4148 - accuracy: 0.8513 - val_loss: 0.3629 - val_accuracy: 0.8687\n",
            "Epoch 7/1500\n",
            "1500/1500 [==============================] - 5s 4ms/step - loss: 0.4018 - accuracy: 0.8556 - val_loss: 0.3586 - val_accuracy: 0.8675\n",
            "Epoch 8/1500\n",
            "1500/1500 [==============================] - 5s 3ms/step - loss: 0.3927 - accuracy: 0.8600 - val_loss: 0.3489 - val_accuracy: 0.8727\n",
            "Epoch 9/1500\n",
            "1500/1500 [==============================] - 6s 4ms/step - loss: 0.3845 - accuracy: 0.8606 - val_loss: 0.3473 - val_accuracy: 0.8720\n",
            "Epoch 10/1500\n",
            "1500/1500 [==============================] - 6s 4ms/step - loss: 0.3779 - accuracy: 0.8641 - val_loss: 0.3454 - val_accuracy: 0.8756\n",
            "Epoch 11/1500\n",
            "1500/1500 [==============================] - 5s 4ms/step - loss: 0.3726 - accuracy: 0.8661 - val_loss: 0.3387 - val_accuracy: 0.8775\n",
            "Epoch 12/1500\n",
            "1500/1500 [==============================] - 5s 3ms/step - loss: 0.3672 - accuracy: 0.8665 - val_loss: 0.3391 - val_accuracy: 0.8739\n",
            "Epoch 13/1500\n",
            "1500/1500 [==============================] - 7s 4ms/step - loss: 0.3609 - accuracy: 0.8694 - val_loss: 0.3336 - val_accuracy: 0.8780\n",
            "Epoch 14/1500\n",
            "1500/1500 [==============================] - 5s 4ms/step - loss: 0.3570 - accuracy: 0.8698 - val_loss: 0.3375 - val_accuracy: 0.8765\n",
            "Epoch 15/1500\n",
            "1500/1500 [==============================] - 6s 4ms/step - loss: 0.3535 - accuracy: 0.8700 - val_loss: 0.3286 - val_accuracy: 0.8794\n",
            "Epoch 16/1500\n",
            "1500/1500 [==============================] - 6s 4ms/step - loss: 0.3510 - accuracy: 0.8721 - val_loss: 0.3290 - val_accuracy: 0.8807\n",
            "Epoch 17/1500\n",
            "1500/1500 [==============================] - 5s 3ms/step - loss: 0.3449 - accuracy: 0.8750 - val_loss: 0.3314 - val_accuracy: 0.8788\n",
            "Epoch 18/1500\n",
            "1500/1500 [==============================] - 5s 3ms/step - loss: 0.3424 - accuracy: 0.8748 - val_loss: 0.3192 - val_accuracy: 0.8817\n",
            "Epoch 19/1500\n",
            "1500/1500 [==============================] - 5s 3ms/step - loss: 0.3405 - accuracy: 0.8764 - val_loss: 0.3201 - val_accuracy: 0.8814\n",
            "Epoch 20/1500\n",
            "1500/1500 [==============================] - 5s 3ms/step - loss: 0.3343 - accuracy: 0.8767 - val_loss: 0.3169 - val_accuracy: 0.8832\n",
            "Epoch 21/1500\n",
            "1500/1500 [==============================] - 4s 3ms/step - loss: 0.3317 - accuracy: 0.8796 - val_loss: 0.3227 - val_accuracy: 0.8818\n",
            "Epoch 22/1500\n",
            "1500/1500 [==============================] - 5s 4ms/step - loss: 0.3275 - accuracy: 0.8805 - val_loss: 0.3186 - val_accuracy: 0.8818\n",
            "Epoch 23/1500\n",
            "1500/1500 [==============================] - 5s 4ms/step - loss: 0.3277 - accuracy: 0.8809 - val_loss: 0.3183 - val_accuracy: 0.8854\n",
            "Epoch 24/1500\n",
            "1500/1500 [==============================] - 6s 4ms/step - loss: 0.3220 - accuracy: 0.8805 - val_loss: 0.3144 - val_accuracy: 0.8864\n",
            "Epoch 25/1500\n",
            "1500/1500 [==============================] - 5s 4ms/step - loss: 0.3201 - accuracy: 0.8819 - val_loss: 0.3158 - val_accuracy: 0.8860\n",
            "Epoch 26/1500\n",
            "1500/1500 [==============================] - 6s 4ms/step - loss: 0.3167 - accuracy: 0.8848 - val_loss: 0.3197 - val_accuracy: 0.8849\n",
            "Epoch 27/1500\n",
            "1500/1500 [==============================] - 6s 4ms/step - loss: 0.3143 - accuracy: 0.8839 - val_loss: 0.3151 - val_accuracy: 0.8849\n",
            "Epoch 28/1500\n",
            "1500/1500 [==============================] - 5s 4ms/step - loss: 0.3142 - accuracy: 0.8844 - val_loss: 0.3155 - val_accuracy: 0.8855\n",
            "Epoch 29/1500\n",
            "1500/1500 [==============================] - 6s 4ms/step - loss: 0.3102 - accuracy: 0.8849 - val_loss: 0.3128 - val_accuracy: 0.8880\n",
            "Epoch 30/1500\n",
            "1500/1500 [==============================] - 6s 4ms/step - loss: 0.3098 - accuracy: 0.8868 - val_loss: 0.3095 - val_accuracy: 0.8892\n",
            "Epoch 31/1500\n",
            "1500/1500 [==============================] - 5s 3ms/step - loss: 0.3089 - accuracy: 0.8857 - val_loss: 0.3103 - val_accuracy: 0.8878\n",
            "Epoch 32/1500\n",
            "1500/1500 [==============================] - 6s 4ms/step - loss: 0.3057 - accuracy: 0.8856 - val_loss: 0.3122 - val_accuracy: 0.8878\n",
            "Epoch 33/1500\n",
            "1500/1500 [==============================] - 6s 4ms/step - loss: 0.3031 - accuracy: 0.8878 - val_loss: 0.3076 - val_accuracy: 0.8869\n",
            "Epoch 34/1500\n",
            "1500/1500 [==============================] - 5s 4ms/step - loss: 0.2997 - accuracy: 0.8884 - val_loss: 0.3174 - val_accuracy: 0.8863\n",
            "Epoch 35/1500\n",
            "1500/1500 [==============================] - 5s 3ms/step - loss: 0.2991 - accuracy: 0.8890 - val_loss: 0.3186 - val_accuracy: 0.8861\n",
            "Epoch 36/1500\n",
            "1500/1500 [==============================] - 6s 4ms/step - loss: 0.2984 - accuracy: 0.8898 - val_loss: 0.3129 - val_accuracy: 0.8883\n",
            "Epoch 37/1500\n",
            "1500/1500 [==============================] - 6s 4ms/step - loss: 0.2940 - accuracy: 0.8902 - val_loss: 0.3109 - val_accuracy: 0.8894\n",
            "Epoch 38/1500\n",
            "1500/1500 [==============================] - 6s 4ms/step - loss: 0.2936 - accuracy: 0.8916 - val_loss: 0.3083 - val_accuracy: 0.8906\n"
          ]
        }
      ]
    },
    {
      "cell_type": "code",
      "source": [
        "import matplotlib.pyplot as plt\n",
        "\n",
        "plt.plot(hist.history['loss'],label='loss')\n",
        "plt.plot(hist.history['val_loss'],label='val_loss')\n",
        "plt.legend()\n",
        "plt.show()"
      ],
      "metadata": {
        "colab": {
          "base_uri": "https://localhost:8080/",
          "height": 265
        },
        "id": "hnGhKUvIv-te",
        "outputId": "9adabc5b-3af0-4ec7-fdbf-08d74d359d1d"
      },
      "execution_count": null,
      "outputs": [
        {
          "output_type": "display_data",
          "data": {
            "text/plain": [
              "<Figure size 432x288 with 1 Axes>"
            ],
            "image/png": "[encoded data removed]"
          },
          "metadata": {
            "needs_background": "light"
          }
        }
      ]
    },
    {
      "cell_type": "markdown",
      "source": [
        "# CNN"
      ],
      "metadata": {
        "id": "Oa4QYjWbwkS0"
      }
    },
    {
      "cell_type": "code",
      "source": [
        "from tensorflow import keras\n",
        "from sklearn.model_selection import train_test_split"
      ],
      "metadata": {
        "id": "RmfxR9FhwnJ5"
      },
      "execution_count": null,
      "outputs": []
    },
    {
      "cell_type": "code",
      "source": [
        "(train_input,train_target),(test_input,test_target)=keras.datasets.fashion_mnist.load_data()"
      ],
      "metadata": {
        "id": "dGjw1exgwnHx"
      },
      "execution_count": null,
      "outputs": []
    },
    {
      "cell_type": "code",
      "source": [
        "train_input.shape"
      ],
      "metadata": {
        "colab": {
          "base_uri": "https://localhost:8080/"
        },
        "id": "PP44YQ-Z5yw2",
        "outputId": "fa82f8ae-fd04-4ce3-eaab-04c6844d655b"
      },
      "execution_count": null,
      "outputs": [
        {
          "output_type": "execute_result",
          "data": {
            "text/plain": [
              "(60000, 28, 28)"
            ]
          },
          "metadata": {},
          "execution_count": 49
        }
      ]
    },
    {
      "cell_type": "code",
      "source": [
        "train_rinput = train_input.reshape(-1,28,28,1)\n",
        "test_rinput = test_input.reshape(-1,28,28,1)\n",
        "train_rinput.shape"
      ],
      "metadata": {
        "colab": {
          "base_uri": "https://localhost:8080/"
        },
        "id": "5KA140cuwnFp",
        "outputId": "c26f084a-90be-4b1c-9f51-c591528d8950"
      },
      "execution_count": null,
      "outputs": [
        {
          "output_type": "execute_result",
          "data": {
            "text/plain": [
              "(60000, 28, 28, 1)"
            ]
          },
          "metadata": {},
          "execution_count": 53
        }
      ]
    },
    {
      "cell_type": "code",
      "source": [
        "train_scaled = train_rinput/255.0 #min-max 변환\n",
        "test_scaled = test_rinput/255.0 #min-max 변환"
      ],
      "metadata": {
        "id": "Ccin67zj6C8N"
      },
      "execution_count": null,
      "outputs": []
    },
    {
      "cell_type": "code",
      "source": [
        "model = keras.Sequential()\n",
        "model.add(keras.layers.Conv2D(32,kernel_size=3,activation='relu',input_shape=(28,28,1)))\n",
        "model.add(keras.layers.MaxPooling2D(2))\n",
        "model.add(keras.layers.Conv2D(64,kernel_size=3,activation='relu',padding='same'))\n",
        "model.add(keras.layers.MaxPooling2D(2))\n",
        "model.add(keras.layers.Flatten())\n",
        "model.add(keras.layers.Dense(100,activation='relu'))\n",
        "model.add(keras.layers.Dropout(0.5))\n",
        "model.add(keras.layers.Dense(10,activation='softmax'))\n",
        "model.summary()"
      ],
      "metadata": {
        "colab": {
          "base_uri": "https://localhost:8080/"
        },
        "id": "hD0XzAbewnDp",
        "outputId": "d2e2d2ae-2dcc-4f4e-f4dc-7f4bf7d78bcd"
      },
      "execution_count": null,
      "outputs": [
        {
          "output_type": "stream",
          "name": "stdout",
          "text": [
            "Model: \"sequential_5\"\n",
            "_________________________________________________________________\n",
            " Layer (type)                Output Shape              Param #   \n",
            "=================================================================\n",
            " conv2d_2 (Conv2D)           (None, 26, 26, 32)        320       \n",
            "                                                                 \n",
            " max_pooling2d (MaxPooling2D  (None, 13, 13, 32)       0         \n",
            " )                                                               \n",
            "                                                                 \n",
            " conv2d_3 (Conv2D)           (None, 13, 13, 64)        18496     \n",
            "                                                                 \n",
            " max_pooling2d_1 (MaxPooling  (None, 6, 6, 64)         0         \n",
            " 2D)                                                             \n",
            "                                                                 \n",
            " flatten_5 (Flatten)         (None, 2304)              0         \n",
            "                                                                 \n",
            " dense_10 (Dense)            (None, 100)               230500    \n",
            "                                                                 \n",
            " dropout_5 (Dropout)         (None, 100)               0         \n",
            "                                                                 \n",
            " dense_11 (Dense)            (None, 10)                1010      \n",
            "                                                                 \n",
            "=================================================================\n",
            "Total params: 250,326\n",
            "Trainable params: 250,326\n",
            "Non-trainable params: 0\n",
            "_________________________________________________________________\n"
          ]
        }
      ]
    },
    {
      "cell_type": "code",
      "source": [
        "keras.utils.plot_model(model)"
      ],
      "metadata": {
        "colab": {
          "base_uri": "https://localhost:8080/",
          "height": 856
        },
        "id": "iRKOrGEbwnBb",
        "outputId": "e04684c0-7917-4069-8566-27f596b2d62e"
      },
      "execution_count": null,
      "outputs": [
        {
          "output_type": "execute_result",
          "data": {
            "text/plain": [
              "<IPython.core.display.Image object>"
            ],
            "image/png": "[encoded data removed]"
          },
          "metadata": {},
          "execution_count": 57
        }
      ]
    },
    {
      "cell_type": "code",
      "source": [
        "keras.utils.plot_model(model,show_shapes=True)"
      ],
      "metadata": {
        "colab": {
          "base_uri": "https://localhost:8080/",
          "height": 976
        },
        "id": "J-oY6DbZwm9h",
        "outputId": "80bea286-f6ce-452b-a305-b93c22a388a6"
      },
      "execution_count": null,
      "outputs": [
        {
          "output_type": "execute_result",
          "data": {
            "text/plain": [
              "<IPython.core.display.Image object>"
            ],
            "image/png": "[encoded data removed]"
          },
          "metadata": {},
          "execution_count": 62
        }
      ]
    },
    {
      "cell_type": "code",
      "source": [
        "model.compile(optimizer='adam',loss=keras.losses.sparse_categorical_crossentropy,metrics='accuracy')\n",
        "early_stopping_cb = keras.callbacks.EarlyStopping(patience=5,restore_best_weights=True)\n",
        "history = model.fit(train_scaled, train_target, validation_split=0.2,epochs=30,callbacks=[early_stopping_cb])"
      ],
      "metadata": {
        "colab": {
          "base_uri": "https://localhost:8080/"
        },
        "id": "t7fAsNDlwm7Z",
        "outputId": "f7881198-3c01-4c4b-941a-69ce0ce7a063"
      },
      "execution_count": null,
      "outputs": [
        {
          "output_type": "stream",
          "name": "stdout",
          "text": [
            "Epoch 1/30\n",
            "1500/1500 [==============================] - 62s 41ms/step - loss: 0.5584 - accuracy: 0.8033 - val_loss: 0.3588 - val_accuracy: 0.8655\n",
            "Epoch 2/30\n",
            "1500/1500 [==============================] - 59s 39ms/step - loss: 0.3773 - accuracy: 0.8668 - val_loss: 0.3155 - val_accuracy: 0.8844\n",
            "Epoch 3/30\n",
            "1500/1500 [==============================] - 58s 39ms/step - loss: 0.3216 - accuracy: 0.8838 - val_loss: 0.2685 - val_accuracy: 0.8962\n",
            "Epoch 4/30\n",
            "1500/1500 [==============================] - 61s 40ms/step - loss: 0.2969 - accuracy: 0.8930 - val_loss: 0.2500 - val_accuracy: 0.9058\n",
            "Epoch 5/30\n",
            "1500/1500 [==============================] - 60s 40ms/step - loss: 0.2669 - accuracy: 0.9011 - val_loss: 0.2448 - val_accuracy: 0.9094\n",
            "Epoch 6/30\n",
            "1500/1500 [==============================] - 59s 39ms/step - loss: 0.2508 - accuracy: 0.9084 - val_loss: 0.2386 - val_accuracy: 0.9112\n",
            "Epoch 7/30\n",
            "1500/1500 [==============================] - 60s 40ms/step - loss: 0.2305 - accuracy: 0.9146 - val_loss: 0.2334 - val_accuracy: 0.9168\n",
            "Epoch 8/30\n",
            "1500/1500 [==============================] - 58s 39ms/step - loss: 0.2165 - accuracy: 0.9197 - val_loss: 0.2386 - val_accuracy: 0.9127\n",
            "Epoch 9/30\n",
            "1500/1500 [==============================] - 58s 39ms/step - loss: 0.2043 - accuracy: 0.9240 - val_loss: 0.2452 - val_accuracy: 0.9176\n",
            "Epoch 10/30\n",
            "1500/1500 [==============================] - 57s 38ms/step - loss: 0.1927 - accuracy: 0.9283 - val_loss: 0.2267 - val_accuracy: 0.9192\n",
            "Epoch 11/30\n",
            "1500/1500 [==============================] - 61s 40ms/step - loss: 0.1838 - accuracy: 0.9314 - val_loss: 0.2632 - val_accuracy: 0.9182\n",
            "Epoch 12/30\n",
            "1500/1500 [==============================] - 59s 39ms/step - loss: 0.1730 - accuracy: 0.9351 - val_loss: 0.2559 - val_accuracy: 0.9162\n",
            "Epoch 13/30\n",
            "1500/1500 [==============================] - 59s 39ms/step - loss: 0.1627 - accuracy: 0.9389 - val_loss: 0.2475 - val_accuracy: 0.9189\n",
            "Epoch 14/30\n",
            "1500/1500 [==============================] - 58s 39ms/step - loss: 0.1554 - accuracy: 0.9410 - val_loss: 0.2412 - val_accuracy: 0.9202\n",
            "Epoch 15/30\n",
            "1500/1500 [==============================] - 71s 47ms/step - loss: 0.1495 - accuracy: 0.9429 - val_loss: 0.2472 - val_accuracy: 0.9228\n"
          ]
        }
      ]
    },
    {
      "cell_type": "code",
      "source": [
        "plt.plot(history.history['loss'],label='loss')\n",
        "plt.plot(history.history['val_loss'],label='val_loss')\n",
        "plt.legend()\n",
        "plt.show()"
      ],
      "metadata": {
        "colab": {
          "base_uri": "https://localhost:8080/",
          "height": 265
        },
        "id": "5mVBW0kfwmyS",
        "outputId": "997365bc-1564-4a9c-a5c8-e5244b04d561"
      },
      "execution_count": null,
      "outputs": [
        {
          "output_type": "display_data",
          "data": {
            "text/plain": [
              "<Figure size 432x288 with 1 Axes>"
            ],
            "image/png": "[encoded data removed]"
          },
          "metadata": {
            "needs_background": "light"
          }
        }
      ]
    },
    {
      "cell_type": "code",
      "source": [
        "model.evaluate(test_scaled,test_target)"
      ],
      "metadata": {
        "colab": {
          "base_uri": "https://localhost:8080/"
        },
        "id": "sNBeh-mewmwR",
        "outputId": "2f5e3a96-fc82-4f7e-85c4-7f3047981741"
      },
      "execution_count": null,
      "outputs": [
        {
          "output_type": "stream",
          "name": "stdout",
          "text": [
            "313/313 [==============================] - 4s 12ms/step - loss: 0.2468 - accuracy: 0.9133\n"
          ]
        },
        {
          "output_type": "execute_result",
          "data": {
            "text/plain": [
              "[0.2468213587999344, 0.9132999777793884]"
            ]
          },
          "metadata": {},
          "execution_count": 67
        }
      ]
    },
    {
      "cell_type": "code",
      "source": [
        "plt.imshow(test_scaled[0].reshape(28,28),cmap='gray')\n",
        "plt.show()\n",
        "print(test_target[0])"
      ],
      "metadata": {
        "colab": {
          "base_uri": "https://localhost:8080/",
          "height": 283
        },
        "id": "Wfo0ajCgWGAB",
        "outputId": "18d2cf77-7954-4512-c153-182b9acbe218"
      },
      "execution_count": null,
      "outputs": [
        {
          "output_type": "display_data",
          "data": {
            "text/plain": [
              "<Figure size 432x288 with 1 Axes>"
            ],
            "image/png": "[encoded data removed]"
          },
          "metadata": {
            "needs_background": "light"
          }
        },
        {
          "output_type": "stream",
          "name": "stdout",
          "text": [
            "9\n"
          ]
        }
      ]
    },
    {
      "cell_type": "code",
      "source": [
        "preds = model.predict(test_scaled[0:1])\n",
        "print(preds)"
      ],
      "metadata": {
        "colab": {
          "base_uri": "https://localhost:8080/"
        },
        "id": "n1RmGEtKYDkl",
        "outputId": "d5d0f447-cc37-4e3d-fa47-9743ae76b6d4"
      },
      "execution_count": null,
      "outputs": [
        {
          "output_type": "stream",
          "name": "stdout",
          "text": [
            "[[1.6367604e-12 3.6001973e-18 4.3801556e-16 3.9614438e-13 9.6776784e-20\n",
            "  3.0443392e-09 6.5871097e-18 7.9298816e-06 5.9012754e-16 9.9999201e-01]]\n"
          ]
        }
      ]
    },
    {
      "cell_type": "code",
      "source": [
        "model.save('best-cnn-model.h5')"
      ],
      "metadata": {
        "id": "N1H_rOsNY32P"
      },
      "execution_count": null,
      "outputs": []
    },
    {
      "cell_type": "code",
      "source": [
        "model.layers"
      ],
      "metadata": {
        "colab": {
          "base_uri": "https://localhost:8080/"
        },
        "id": "McUpZ_LaZCg0",
        "outputId": "5293ce0a-88f2-46f8-b1e5-6702ad12bdbd"
      },
      "execution_count": null,
      "outputs": [
        {
          "output_type": "execute_result",
          "data": {
            "text/plain": [
              "[<keras.layers.convolutional.Conv2D at 0x7f7458302810>,\n",
              " <keras.layers.pooling.MaxPooling2D at 0x7f7453f03950>,\n",
              " <keras.layers.convolutional.Conv2D at 0x7f744f727e90>,\n",
              " <keras.layers.pooling.MaxPooling2D at 0x7f744f97bb50>,\n",
              " <keras.layers.core.flatten.Flatten at 0x7f7450775390>,\n",
              " <keras.layers.core.dense.Dense at 0x7f744fed8f90>,\n",
              " <keras.layers.core.dropout.Dropout at 0x7f744febd290>,\n",
              " <keras.layers.core.dense.Dense at 0x7f744fed64d0>]"
            ]
          },
          "metadata": {},
          "execution_count": 73
        }
      ]
    },
    {
      "cell_type": "code",
      "source": [
        "conv = model.layers[0]\n",
        "print(conv.weights[0].shape, conv.weights[1].shape)"
      ],
      "metadata": {
        "colab": {
          "base_uri": "https://localhost:8080/"
        },
        "id": "aCUjYFoyZGWz",
        "outputId": "86f622af-a8dc-42d2-ac19-97fa206fe154"
      },
      "execution_count": null,
      "outputs": [
        {
          "output_type": "stream",
          "name": "stdout",
          "text": [
            "(3, 3, 1, 32) (32,)\n"
          ]
        }
      ]
    },
    {
      "cell_type": "code",
      "source": [
        "conv_weights = conv.weights[0].numpy()\n",
        "print(conv_weights.mean(),conv_weights.std())"
      ],
      "metadata": {
        "colab": {
          "base_uri": "https://localhost:8080/"
        },
        "id": "KssZlE2MZZn7",
        "outputId": "cdbb36c1-e895-48d9-a110-3c4d250bc552"
      },
      "execution_count": null,
      "outputs": [
        {
          "output_type": "stream",
          "name": "stdout",
          "text": [
            "-0.03453575 0.28130174\n"
          ]
        }
      ]
    },
    {
      "cell_type": "code",
      "source": [
        "plt.hist(conv_weights.reshape(-1,1))\n",
        "plt.show()"
      ],
      "metadata": {
        "colab": {
          "base_uri": "https://localhost:8080/",
          "height": 265
        },
        "id": "-Z7RnaZ0aXPu",
        "outputId": "e27d026e-e8c5-4d57-aa97-b1889cf4000f"
      },
      "execution_count": null,
      "outputs": [
        {
          "output_type": "display_data",
          "data": {
            "text/plain": [
              "<Figure size 432x288 with 1 Axes>"
            ],
            "image/png": "[encoded data removed]"
          },
          "metadata": {
            "needs_background": "light"
          }
        }
      ]
    },
    {
      "cell_type": "code",
      "source": [
        "fig,axs = plt.subplots(2,16,figsize=(15,2))\n",
        "for i in range(2):\n",
        "  for j in range(16):\n",
        "    axs[i,j].imshow(conv_weights[:,:0,i*16 + j],vmin=-0.5,vmax=0.5)\n",
        "    axs[i,j].axis('off')\n",
        "plt.show()"
      ],
      "metadata": {
        "colab": {
          "base_uri": "https://localhost:8080/",
          "height": 540
        },
        "id": "Rs3d0u5_ZrkJ",
        "outputId": "df892a87-bea6-436c-b05e-33ee6095adfc"
      },
      "execution_count": null,
      "outputs": [
        {
          "output_type": "error",
          "ename": "TypeError",
          "evalue": "ignored",
          "traceback": [
            "\u001b[0;31m---------------------------------------------------------------------------\u001b[0m",
            "\u001b[0;31mTypeError\u001b[0m                                 Traceback (most recent call last)",
            "\u001b[0;32m<ipython-input-84-b9c32c1b457b>\u001b[0m in \u001b[0;36m<module>\u001b[0;34m()\u001b[0m\n\u001b[1;32m      2\u001b[0m \u001b[0;32mfor\u001b[0m \u001b[0mi\u001b[0m \u001b[0;32min\u001b[0m \u001b[0mrange\u001b[0m\u001b[0;34m(\u001b[0m\u001b[0;36m2\u001b[0m\u001b[0;34m)\u001b[0m\u001b[0;34m:\u001b[0m\u001b[0;34m\u001b[0m\u001b[0;34m\u001b[0m\u001b[0m\n\u001b[1;32m      3\u001b[0m   \u001b[0;32mfor\u001b[0m \u001b[0mj\u001b[0m \u001b[0;32min\u001b[0m \u001b[0mrange\u001b[0m\u001b[0;34m(\u001b[0m\u001b[0;36m16\u001b[0m\u001b[0;34m)\u001b[0m\u001b[0;34m:\u001b[0m\u001b[0;34m\u001b[0m\u001b[0;34m\u001b[0m\u001b[0m\n\u001b[0;32m----> 4\u001b[0;31m     \u001b[0maxs\u001b[0m\u001b[0;34m[\u001b[0m\u001b[0mi\u001b[0m\u001b[0;34m,\u001b[0m\u001b[0mj\u001b[0m\u001b[0;34m]\u001b[0m\u001b[0;34m.\u001b[0m\u001b[0mimshow\u001b[0m\u001b[0;34m(\u001b[0m\u001b[0mconv_weights\u001b[0m\u001b[0;34m[\u001b[0m\u001b[0;34m:\u001b[0m\u001b[0;34m,\u001b[0m\u001b[0;34m:\u001b[0m\u001b[0;36m0\u001b[0m\u001b[0;34m,\u001b[0m\u001b[0mi\u001b[0m\u001b[0;34m*\u001b[0m\u001b[0;36m16\u001b[0m \u001b[0;34m+\u001b[0m \u001b[0mj\u001b[0m\u001b[0;34m]\u001b[0m\u001b[0;34m,\u001b[0m\u001b[0mvmin\u001b[0m\u001b[0;34m=\u001b[0m\u001b[0;34m-\u001b[0m\u001b[0;36m0.5\u001b[0m\u001b[0;34m,\u001b[0m\u001b[0mvmax\u001b[0m\u001b[0;34m=\u001b[0m\u001b[0;36m0.5\u001b[0m\u001b[0;34m)\u001b[0m\u001b[0;34m\u001b[0m\u001b[0;34m\u001b[0m\u001b[0m\n\u001b[0m\u001b[1;32m      5\u001b[0m     \u001b[0maxs\u001b[0m\u001b[0;34m[\u001b[0m\u001b[0mi\u001b[0m\u001b[0;34m,\u001b[0m\u001b[0mj\u001b[0m\u001b[0;34m]\u001b[0m\u001b[0;34m.\u001b[0m\u001b[0maxis\u001b[0m\u001b[0;34m(\u001b[0m\u001b[0;34m'off'\u001b[0m\u001b[0;34m)\u001b[0m\u001b[0;34m\u001b[0m\u001b[0;34m\u001b[0m\u001b[0m\n\u001b[1;32m      6\u001b[0m \u001b[0mplt\u001b[0m\u001b[0;34m.\u001b[0m\u001b[0mshow\u001b[0m\u001b[0;34m(\u001b[0m\u001b[0;34m)\u001b[0m\u001b[0;34m\u001b[0m\u001b[0;34m\u001b[0m\u001b[0m\n",
            "\u001b[0;32m/usr/local/lib/python3.7/dist-packages/matplotlib/__init__.py\u001b[0m in \u001b[0;36minner\u001b[0;34m(ax, data, *args, **kwargs)\u001b[0m\n\u001b[1;32m   1563\u001b[0m     \u001b[0;32mdef\u001b[0m \u001b[0minner\u001b[0m\u001b[0;34m(\u001b[0m\u001b[0max\u001b[0m\u001b[0;34m,\u001b[0m \u001b[0;34m*\u001b[0m\u001b[0margs\u001b[0m\u001b[0;34m,\u001b[0m \u001b[0mdata\u001b[0m\u001b[0;34m=\u001b[0m\u001b[0;32mNone\u001b[0m\u001b[0;34m,\u001b[0m \u001b[0;34m**\u001b[0m\u001b[0mkwargs\u001b[0m\u001b[0;34m)\u001b[0m\u001b[0;34m:\u001b[0m\u001b[0;34m\u001b[0m\u001b[0;34m\u001b[0m\u001b[0m\n\u001b[1;32m   1564\u001b[0m         \u001b[0;32mif\u001b[0m \u001b[0mdata\u001b[0m \u001b[0;32mis\u001b[0m \u001b[0;32mNone\u001b[0m\u001b[0;34m:\u001b[0m\u001b[0;34m\u001b[0m\u001b[0;34m\u001b[0m\u001b[0m\n\u001b[0;32m-> 1565\u001b[0;31m             \u001b[0;32mreturn\u001b[0m \u001b[0mfunc\u001b[0m\u001b[0;34m(\u001b[0m\u001b[0max\u001b[0m\u001b[0;34m,\u001b[0m \u001b[0;34m*\u001b[0m\u001b[0mmap\u001b[0m\u001b[0;34m(\u001b[0m\u001b[0msanitize_sequence\u001b[0m\u001b[0;34m,\u001b[0m \u001b[0margs\u001b[0m\u001b[0;34m)\u001b[0m\u001b[0;34m,\u001b[0m \u001b[0;34m**\u001b[0m\u001b[0mkwargs\u001b[0m\u001b[0;34m)\u001b[0m\u001b[0;34m\u001b[0m\u001b[0;34m\u001b[0m\u001b[0m\n\u001b[0m\u001b[1;32m   1566\u001b[0m \u001b[0;34m\u001b[0m\u001b[0m\n\u001b[1;32m   1567\u001b[0m         \u001b[0mbound\u001b[0m \u001b[0;34m=\u001b[0m \u001b[0mnew_sig\u001b[0m\u001b[0;34m.\u001b[0m\u001b[0mbind\u001b[0m\u001b[0;34m(\u001b[0m\u001b[0max\u001b[0m\u001b[0;34m,\u001b[0m \u001b[0;34m*\u001b[0m\u001b[0margs\u001b[0m\u001b[0;34m,\u001b[0m \u001b[0;34m**\u001b[0m\u001b[0mkwargs\u001b[0m\u001b[0;34m)\u001b[0m\u001b[0;34m\u001b[0m\u001b[0;34m\u001b[0m\u001b[0m\n",
            "\u001b[0;32m/usr/local/lib/python3.7/dist-packages/matplotlib/cbook/deprecation.py\u001b[0m in \u001b[0;36mwrapper\u001b[0;34m(*args, **kwargs)\u001b[0m\n\u001b[1;32m    356\u001b[0m                 \u001b[0;34mf\"%(removal)s.  If any parameter follows {name!r}, they \"\u001b[0m\u001b[0;34m\u001b[0m\u001b[0;34m\u001b[0m\u001b[0m\n\u001b[1;32m    357\u001b[0m                 f\"should be pass as keyword, not positionally.\")\n\u001b[0;32m--> 358\u001b[0;31m         \u001b[0;32mreturn\u001b[0m \u001b[0mfunc\u001b[0m\u001b[0;34m(\u001b[0m\u001b[0;34m*\u001b[0m\u001b[0margs\u001b[0m\u001b[0;34m,\u001b[0m \u001b[0;34m**\u001b[0m\u001b[0mkwargs\u001b[0m\u001b[0;34m)\u001b[0m\u001b[0;34m\u001b[0m\u001b[0;34m\u001b[0m\u001b[0m\n\u001b[0m\u001b[1;32m    359\u001b[0m \u001b[0;34m\u001b[0m\u001b[0m\n\u001b[1;32m    360\u001b[0m     \u001b[0;32mreturn\u001b[0m \u001b[0mwrapper\u001b[0m\u001b[0;34m\u001b[0m\u001b[0;34m\u001b[0m\u001b[0m\n",
            "\u001b[0;32m/usr/local/lib/python3.7/dist-packages/matplotlib/cbook/deprecation.py\u001b[0m in \u001b[0;36mwrapper\u001b[0;34m(*args, **kwargs)\u001b[0m\n\u001b[1;32m    356\u001b[0m                 \u001b[0;34mf\"%(removal)s.  If any parameter follows {name!r}, they \"\u001b[0m\u001b[0;34m\u001b[0m\u001b[0;34m\u001b[0m\u001b[0m\n\u001b[1;32m    357\u001b[0m                 f\"should be pass as keyword, not positionally.\")\n\u001b[0;32m--> 358\u001b[0;31m         \u001b[0;32mreturn\u001b[0m \u001b[0mfunc\u001b[0m\u001b[0;34m(\u001b[0m\u001b[0;34m*\u001b[0m\u001b[0margs\u001b[0m\u001b[0;34m,\u001b[0m \u001b[0;34m**\u001b[0m\u001b[0mkwargs\u001b[0m\u001b[0;34m)\u001b[0m\u001b[0;34m\u001b[0m\u001b[0;34m\u001b[0m\u001b[0m\n\u001b[0m\u001b[1;32m    359\u001b[0m \u001b[0;34m\u001b[0m\u001b[0m\n\u001b[1;32m    360\u001b[0m     \u001b[0;32mreturn\u001b[0m \u001b[0mwrapper\u001b[0m\u001b[0;34m\u001b[0m\u001b[0;34m\u001b[0m\u001b[0m\n",
            "\u001b[0;32m/usr/local/lib/python3.7/dist-packages/matplotlib/axes/_axes.py\u001b[0m in \u001b[0;36mimshow\u001b[0;34m(self, X, cmap, norm, aspect, interpolation, alpha, vmin, vmax, origin, extent, shape, filternorm, filterrad, imlim, resample, url, **kwargs)\u001b[0m\n\u001b[1;32m   5624\u001b[0m                               resample=resample, **kwargs)\n\u001b[1;32m   5625\u001b[0m \u001b[0;34m\u001b[0m\u001b[0m\n\u001b[0;32m-> 5626\u001b[0;31m         \u001b[0mim\u001b[0m\u001b[0;34m.\u001b[0m\u001b[0mset_data\u001b[0m\u001b[0;34m(\u001b[0m\u001b[0mX\u001b[0m\u001b[0;34m)\u001b[0m\u001b[0;34m\u001b[0m\u001b[0;34m\u001b[0m\u001b[0m\n\u001b[0m\u001b[1;32m   5627\u001b[0m         \u001b[0mim\u001b[0m\u001b[0;34m.\u001b[0m\u001b[0mset_alpha\u001b[0m\u001b[0;34m(\u001b[0m\u001b[0malpha\u001b[0m\u001b[0;34m)\u001b[0m\u001b[0;34m\u001b[0m\u001b[0;34m\u001b[0m\u001b[0m\n\u001b[1;32m   5628\u001b[0m         \u001b[0;32mif\u001b[0m \u001b[0mim\u001b[0m\u001b[0;34m.\u001b[0m\u001b[0mget_clip_path\u001b[0m\u001b[0;34m(\u001b[0m\u001b[0;34m)\u001b[0m \u001b[0;32mis\u001b[0m \u001b[0;32mNone\u001b[0m\u001b[0;34m:\u001b[0m\u001b[0;34m\u001b[0m\u001b[0;34m\u001b[0m\u001b[0m\n",
            "\u001b[0;32m/usr/local/lib/python3.7/dist-packages/matplotlib/image.py\u001b[0m in \u001b[0;36mset_data\u001b[0;34m(self, A)\u001b[0m\n\u001b[1;32m    697\u001b[0m                 or self._A.ndim == 3 and self._A.shape[-1] in [3, 4]):\n\u001b[1;32m    698\u001b[0m             raise TypeError(\"Invalid shape {} for image data\"\n\u001b[0;32m--> 699\u001b[0;31m                             .format(self._A.shape))\n\u001b[0m\u001b[1;32m    700\u001b[0m \u001b[0;34m\u001b[0m\u001b[0m\n\u001b[1;32m    701\u001b[0m         \u001b[0;32mif\u001b[0m \u001b[0mself\u001b[0m\u001b[0;34m.\u001b[0m\u001b[0m_A\u001b[0m\u001b[0;34m.\u001b[0m\u001b[0mndim\u001b[0m \u001b[0;34m==\u001b[0m \u001b[0;36m3\u001b[0m\u001b[0;34m:\u001b[0m\u001b[0;34m\u001b[0m\u001b[0;34m\u001b[0m\u001b[0m\n",
            "\u001b[0;31mTypeError\u001b[0m: Invalid shape (3, 0, 32) for image data"
          ]
        },
        {
          "output_type": "display_data",
          "data": {
            "text/plain": [
              "<Figure size 1080x144 with 32 Axes>"
            ],
            "image/png": "[encoded data removed]"
          },
          "metadata": {
            "needs_background": "light"
          }
        }
      ]
    },
    {
      "cell_type": "code",
      "source": [
        "model2 = keras.Sequential()\n",
        "model2.add(keras.layers.Conv2D(32,kernel_size=3,activation='relu',input_shape=(28,28,1)))\n",
        "model2.add(keras.layers.MaxPooling2D(2))\n",
        "model2.add(keras.layers.Conv2D(64,kernel_size=3,activation='relu',padding='same'))\n",
        "model2.add(keras.layers.MaxPooling2D(2))\n",
        "model2.add(keras.layers.Flatten())\n",
        "model2.add(keras.layers.Dense(100,activation='relu'))\n",
        "model2.add(keras.layers.Dropout(0.5))\n",
        "model2.add(keras.layers.Dense(10,activation='softmax'))\n",
        "model2.summary()\n",
        "model2.compile(optimizer='adam',loss=keras.losses.sparse_categorical_crossentropy,metrics='accuracy')"
      ],
      "metadata": {
        "colab": {
          "base_uri": "https://localhost:8080/"
        },
        "id": "4NuuiKaKbdRI",
        "outputId": "5d430896-1500-4b06-ed0b-7356a4516ba3"
      },
      "execution_count": null,
      "outputs": [
        {
          "output_type": "stream",
          "name": "stdout",
          "text": [
            "Model: \"sequential_6\"\n",
            "_________________________________________________________________\n",
            " Layer (type)                Output Shape              Param #   \n",
            "=================================================================\n",
            " conv2d_4 (Conv2D)           (None, 26, 26, 32)        320       \n",
            "                                                                 \n",
            " max_pooling2d_2 (MaxPooling  (None, 13, 13, 32)       0         \n",
            " 2D)                                                             \n",
            "                                                                 \n",
            " conv2d_5 (Conv2D)           (None, 13, 13, 64)        18496     \n",
            "                                                                 \n",
            " max_pooling2d_3 (MaxPooling  (None, 6, 6, 64)         0         \n",
            " 2D)                                                             \n",
            "                                                                 \n",
            " flatten_6 (Flatten)         (None, 2304)              0         \n",
            "                                                                 \n",
            " dense_12 (Dense)            (None, 100)               230500    \n",
            "                                                                 \n",
            " dropout_6 (Dropout)         (None, 100)               0         \n",
            "                                                                 \n",
            " dense_13 (Dense)            (None, 10)                1010      \n",
            "                                                                 \n",
            "=================================================================\n",
            "Total params: 250,326\n",
            "Trainable params: 250,326\n",
            "Non-trainable params: 0\n",
            "_________________________________________________________________\n"
          ]
        }
      ]
    },
    {
      "cell_type": "code",
      "source": [
        "conv2 = model2.layers[0]\n",
        "print(conv2.weights[0].shape, conv2.weights[0].shape)\n",
        "fig,axs = plt.subplots(2,16)\n",
        "for i in range(2):\n",
        "  for j in range(16):\n",
        "    axs[i,j].imshow(conv_weights[:,:0,i*16 + j],vmin=-0.5,vmax=0.5)\n",
        "    axs[i,j].axis('off')\n",
        "plt.show()"
      ],
      "metadata": {
        "colab": {
          "base_uri": "https://localhost:8080/",
          "height": 666
        },
        "id": "9ujQrI9Cbz5I",
        "outputId": "052421c3-3924-4d7b-ad49-a56985dbef2d"
      },
      "execution_count": null,
      "outputs": [
        {
          "output_type": "stream",
          "name": "stdout",
          "text": [
            "(3, 3, 1, 32) (3, 3, 1, 32)\n"
          ]
        },
        {
          "output_type": "error",
          "ename": "TypeError",
          "evalue": "ignored",
          "traceback": [
            "\u001b[0;31m---------------------------------------------------------------------------\u001b[0m",
            "\u001b[0;31mTypeError\u001b[0m                                 Traceback (most recent call last)",
            "\u001b[0;32m<ipython-input-86-55dc047574bf>\u001b[0m in \u001b[0;36m<module>\u001b[0;34m()\u001b[0m\n\u001b[1;32m      4\u001b[0m \u001b[0;32mfor\u001b[0m \u001b[0mi\u001b[0m \u001b[0;32min\u001b[0m \u001b[0mrange\u001b[0m\u001b[0;34m(\u001b[0m\u001b[0;36m2\u001b[0m\u001b[0;34m)\u001b[0m\u001b[0;34m:\u001b[0m\u001b[0;34m\u001b[0m\u001b[0;34m\u001b[0m\u001b[0m\n\u001b[1;32m      5\u001b[0m   \u001b[0;32mfor\u001b[0m \u001b[0mj\u001b[0m \u001b[0;32min\u001b[0m \u001b[0mrange\u001b[0m\u001b[0;34m(\u001b[0m\u001b[0;36m16\u001b[0m\u001b[0;34m)\u001b[0m\u001b[0;34m:\u001b[0m\u001b[0;34m\u001b[0m\u001b[0;34m\u001b[0m\u001b[0m\n\u001b[0;32m----> 6\u001b[0;31m     \u001b[0maxs\u001b[0m\u001b[0;34m[\u001b[0m\u001b[0mi\u001b[0m\u001b[0;34m,\u001b[0m\u001b[0mj\u001b[0m\u001b[0;34m]\u001b[0m\u001b[0;34m.\u001b[0m\u001b[0mimshow\u001b[0m\u001b[0;34m(\u001b[0m\u001b[0mconv_weights\u001b[0m\u001b[0;34m[\u001b[0m\u001b[0;34m:\u001b[0m\u001b[0;34m,\u001b[0m\u001b[0;34m:\u001b[0m\u001b[0;36m0\u001b[0m\u001b[0;34m,\u001b[0m\u001b[0mi\u001b[0m\u001b[0;34m*\u001b[0m\u001b[0;36m16\u001b[0m \u001b[0;34m+\u001b[0m \u001b[0mj\u001b[0m\u001b[0;34m]\u001b[0m\u001b[0;34m,\u001b[0m\u001b[0mvmin\u001b[0m\u001b[0;34m=\u001b[0m\u001b[0;34m-\u001b[0m\u001b[0;36m0.5\u001b[0m\u001b[0;34m,\u001b[0m\u001b[0mvmax\u001b[0m\u001b[0;34m=\u001b[0m\u001b[0;36m0.5\u001b[0m\u001b[0;34m)\u001b[0m\u001b[0;34m\u001b[0m\u001b[0;34m\u001b[0m\u001b[0m\n\u001b[0m\u001b[1;32m      7\u001b[0m     \u001b[0maxs\u001b[0m\u001b[0;34m[\u001b[0m\u001b[0mi\u001b[0m\u001b[0;34m,\u001b[0m\u001b[0mj\u001b[0m\u001b[0;34m]\u001b[0m\u001b[0;34m.\u001b[0m\u001b[0maxis\u001b[0m\u001b[0;34m(\u001b[0m\u001b[0;34m'off'\u001b[0m\u001b[0;34m)\u001b[0m\u001b[0;34m\u001b[0m\u001b[0;34m\u001b[0m\u001b[0m\n\u001b[1;32m      8\u001b[0m \u001b[0mplt\u001b[0m\u001b[0;34m.\u001b[0m\u001b[0mshow\u001b[0m\u001b[0;34m(\u001b[0m\u001b[0;34m)\u001b[0m\u001b[0;34m\u001b[0m\u001b[0;34m\u001b[0m\u001b[0m\n",
            "\u001b[0;32m/usr/local/lib/python3.7/dist-packages/matplotlib/__init__.py\u001b[0m in \u001b[0;36minner\u001b[0;34m(ax, data, *args, **kwargs)\u001b[0m\n\u001b[1;32m   1563\u001b[0m     \u001b[0;32mdef\u001b[0m \u001b[0minner\u001b[0m\u001b[0;34m(\u001b[0m\u001b[0max\u001b[0m\u001b[0;34m,\u001b[0m \u001b[0;34m*\u001b[0m\u001b[0margs\u001b[0m\u001b[0;34m,\u001b[0m \u001b[0mdata\u001b[0m\u001b[0;34m=\u001b[0m\u001b[0;32mNone\u001b[0m\u001b[0;34m,\u001b[0m \u001b[0;34m**\u001b[0m\u001b[0mkwargs\u001b[0m\u001b[0;34m)\u001b[0m\u001b[0;34m:\u001b[0m\u001b[0;34m\u001b[0m\u001b[0;34m\u001b[0m\u001b[0m\n\u001b[1;32m   1564\u001b[0m         \u001b[0;32mif\u001b[0m \u001b[0mdata\u001b[0m \u001b[0;32mis\u001b[0m \u001b[0;32mNone\u001b[0m\u001b[0;34m:\u001b[0m\u001b[0;34m\u001b[0m\u001b[0;34m\u001b[0m\u001b[0m\n\u001b[0;32m-> 1565\u001b[0;31m             \u001b[0;32mreturn\u001b[0m \u001b[0mfunc\u001b[0m\u001b[0;34m(\u001b[0m\u001b[0max\u001b[0m\u001b[0;34m,\u001b[0m \u001b[0;34m*\u001b[0m\u001b[0mmap\u001b[0m\u001b[0;34m(\u001b[0m\u001b[0msanitize_sequence\u001b[0m\u001b[0;34m,\u001b[0m \u001b[0margs\u001b[0m\u001b[0;34m)\u001b[0m\u001b[0;34m,\u001b[0m \u001b[0;34m**\u001b[0m\u001b[0mkwargs\u001b[0m\u001b[0;34m)\u001b[0m\u001b[0;34m\u001b[0m\u001b[0;34m\u001b[0m\u001b[0m\n\u001b[0m\u001b[1;32m   1566\u001b[0m \u001b[0;34m\u001b[0m\u001b[0m\n\u001b[1;32m   1567\u001b[0m         \u001b[0mbound\u001b[0m \u001b[0;34m=\u001b[0m \u001b[0mnew_sig\u001b[0m\u001b[0;34m.\u001b[0m\u001b[0mbind\u001b[0m\u001b[0;34m(\u001b[0m\u001b[0max\u001b[0m\u001b[0;34m,\u001b[0m \u001b[0;34m*\u001b[0m\u001b[0margs\u001b[0m\u001b[0;34m,\u001b[0m \u001b[0;34m**\u001b[0m\u001b[0mkwargs\u001b[0m\u001b[0;34m)\u001b[0m\u001b[0;34m\u001b[0m\u001b[0;34m\u001b[0m\u001b[0m\n",
            "\u001b[0;32m/usr/local/lib/python3.7/dist-packages/matplotlib/cbook/deprecation.py\u001b[0m in \u001b[0;36mwrapper\u001b[0;34m(*args, **kwargs)\u001b[0m\n\u001b[1;32m    356\u001b[0m                 \u001b[0;34mf\"%(removal)s.  If any parameter follows {name!r}, they \"\u001b[0m\u001b[0;34m\u001b[0m\u001b[0;34m\u001b[0m\u001b[0m\n\u001b[1;32m    357\u001b[0m                 f\"should be pass as keyword, not positionally.\")\n\u001b[0;32m--> 358\u001b[0;31m         \u001b[0;32mreturn\u001b[0m \u001b[0mfunc\u001b[0m\u001b[0;34m(\u001b[0m\u001b[0;34m*\u001b[0m\u001b[0margs\u001b[0m\u001b[0;34m,\u001b[0m \u001b[0;34m**\u001b[0m\u001b[0mkwargs\u001b[0m\u001b[0;34m)\u001b[0m\u001b[0;34m\u001b[0m\u001b[0;34m\u001b[0m\u001b[0m\n\u001b[0m\u001b[1;32m    359\u001b[0m \u001b[0;34m\u001b[0m\u001b[0m\n\u001b[1;32m    360\u001b[0m     \u001b[0;32mreturn\u001b[0m \u001b[0mwrapper\u001b[0m\u001b[0;34m\u001b[0m\u001b[0;34m\u001b[0m\u001b[0m\n",
            "\u001b[0;32m/usr/local/lib/python3.7/dist-packages/matplotlib/cbook/deprecation.py\u001b[0m in \u001b[0;36mwrapper\u001b[0;34m(*args, **kwargs)\u001b[0m\n\u001b[1;32m    356\u001b[0m                 \u001b[0;34mf\"%(removal)s.  If any parameter follows {name!r}, they \"\u001b[0m\u001b[0;34m\u001b[0m\u001b[0;34m\u001b[0m\u001b[0m\n\u001b[1;32m    357\u001b[0m                 f\"should be pass as keyword, not positionally.\")\n\u001b[0;32m--> 358\u001b[0;31m         \u001b[0;32mreturn\u001b[0m \u001b[0mfunc\u001b[0m\u001b[0;34m(\u001b[0m\u001b[0;34m*\u001b[0m\u001b[0margs\u001b[0m\u001b[0;34m,\u001b[0m \u001b[0;34m**\u001b[0m\u001b[0mkwargs\u001b[0m\u001b[0;34m)\u001b[0m\u001b[0;34m\u001b[0m\u001b[0;34m\u001b[0m\u001b[0m\n\u001b[0m\u001b[1;32m    359\u001b[0m \u001b[0;34m\u001b[0m\u001b[0m\n\u001b[1;32m    360\u001b[0m     \u001b[0;32mreturn\u001b[0m \u001b[0mwrapper\u001b[0m\u001b[0;34m\u001b[0m\u001b[0;34m\u001b[0m\u001b[0m\n",
            "\u001b[0;32m/usr/local/lib/python3.7/dist-packages/matplotlib/axes/_axes.py\u001b[0m in \u001b[0;36mimshow\u001b[0;34m(self, X, cmap, norm, aspect, interpolation, alpha, vmin, vmax, origin, extent, shape, filternorm, filterrad, imlim, resample, url, **kwargs)\u001b[0m\n\u001b[1;32m   5624\u001b[0m                               resample=resample, **kwargs)\n\u001b[1;32m   5625\u001b[0m \u001b[0;34m\u001b[0m\u001b[0m\n\u001b[0;32m-> 5626\u001b[0;31m         \u001b[0mim\u001b[0m\u001b[0;34m.\u001b[0m\u001b[0mset_data\u001b[0m\u001b[0;34m(\u001b[0m\u001b[0mX\u001b[0m\u001b[0;34m)\u001b[0m\u001b[0;34m\u001b[0m\u001b[0;34m\u001b[0m\u001b[0m\n\u001b[0m\u001b[1;32m   5627\u001b[0m         \u001b[0mim\u001b[0m\u001b[0;34m.\u001b[0m\u001b[0mset_alpha\u001b[0m\u001b[0;34m(\u001b[0m\u001b[0malpha\u001b[0m\u001b[0;34m)\u001b[0m\u001b[0;34m\u001b[0m\u001b[0;34m\u001b[0m\u001b[0m\n\u001b[1;32m   5628\u001b[0m         \u001b[0;32mif\u001b[0m \u001b[0mim\u001b[0m\u001b[0;34m.\u001b[0m\u001b[0mget_clip_path\u001b[0m\u001b[0;34m(\u001b[0m\u001b[0;34m)\u001b[0m \u001b[0;32mis\u001b[0m \u001b[0;32mNone\u001b[0m\u001b[0;34m:\u001b[0m\u001b[0;34m\u001b[0m\u001b[0;34m\u001b[0m\u001b[0m\n",
            "\u001b[0;32m/usr/local/lib/python3.7/dist-packages/matplotlib/image.py\u001b[0m in \u001b[0;36mset_data\u001b[0;34m(self, A)\u001b[0m\n\u001b[1;32m    697\u001b[0m                 or self._A.ndim == 3 and self._A.shape[-1] in [3, 4]):\n\u001b[1;32m    698\u001b[0m             raise TypeError(\"Invalid shape {} for image data\"\n\u001b[0;32m--> 699\u001b[0;31m                             .format(self._A.shape))\n\u001b[0m\u001b[1;32m    700\u001b[0m \u001b[0;34m\u001b[0m\u001b[0m\n\u001b[1;32m    701\u001b[0m         \u001b[0;32mif\u001b[0m \u001b[0mself\u001b[0m\u001b[0;34m.\u001b[0m\u001b[0m_A\u001b[0m\u001b[0;34m.\u001b[0m\u001b[0mndim\u001b[0m \u001b[0;34m==\u001b[0m \u001b[0;36m3\u001b[0m\u001b[0;34m:\u001b[0m\u001b[0;34m\u001b[0m\u001b[0;34m\u001b[0m\u001b[0m\n",
            "\u001b[0;31mTypeError\u001b[0m: Invalid shape (3, 0, 32) for image data"
          ]
        },
        {
          "output_type": "display_data",
          "data": {
            "text/plain": [
              "<Figure size 432x288 with 32 Axes>"
            ],
            "image/png": "[encoded data removed]"
          },
          "metadata": {
            "needs_background": "light"
          }
        }
      ]
    },
    {
      "cell_type": "code",
      "source": [
        "from sklearn.linear_model import LinearRegression\n",
        "import numpy as np\n",
        "lr = LinearRegression()\n",
        "lr.coef_=np.random.uniform(0,1)\n",
        "print(lr.coef_)"
      ],
      "metadata": {
        "colab": {
          "base_uri": "https://localhost:8080/"
        },
        "id": "pU6zhjxhctrY",
        "outputId": "36253b07-a007-42e9-9d0a-b58cb4a9fc0b"
      },
      "execution_count": null,
      "outputs": [
        {
          "output_type": "stream",
          "name": "stdout",
          "text": [
            "0.28724047459335733\n"
          ]
        }
      ]
    },
    {
      "cell_type": "code",
      "source": [
        "print(model.input)"
      ],
      "metadata": {
        "colab": {
          "base_uri": "https://localhost:8080/"
        },
        "id": "Sz-ZySleeE-g",
        "outputId": "077c396f-e9a3-449b-f637-4c512c4689b2"
      },
      "execution_count": null,
      "outputs": [
        {
          "output_type": "stream",
          "name": "stdout",
          "text": [
            "KerasTensor(type_spec=TensorSpec(shape=(None, 28, 28, 1), dtype=tf.float32, name='conv2d_2_input'), name='conv2d_2_input', description=\"created by layer 'conv2d_2_input'\")\n"
          ]
        }
      ]
    },
    {
      "cell_type": "code",
      "source": [
        "print(model.layers[0].output)"
      ],
      "metadata": {
        "colab": {
          "base_uri": "https://localhost:8080/"
        },
        "id": "wq_QCTj4eJZI",
        "outputId": "172890a3-1e80-412d-c99f-158276407ac5"
      },
      "execution_count": null,
      "outputs": [
        {
          "output_type": "stream",
          "name": "stdout",
          "text": [
            "KerasTensor(type_spec=TensorSpec(shape=(None, 26, 26, 32), dtype=tf.float32, name=None), name='conv2d_2/Relu:0', description=\"created by layer 'conv2d_2'\")\n"
          ]
        }
      ]
    },
    {
      "cell_type": "code",
      "source": [
        "conv_acti = keras.Model(model.input,model.layers[0].output)\n",
        "print(conv_acti)"
      ],
      "metadata": {
        "colab": {
          "base_uri": "https://localhost:8080/"
        },
        "id": "o_YNGDy7d3rI",
        "outputId": "061489fb-8cae-4593-a9ce-8ca45a341931"
      },
      "execution_count": null,
      "outputs": [
        {
          "output_type": "stream",
          "name": "stdout",
          "text": [
            "<keras.engine.functional.Functional object at 0x7f744c295050>\n"
          ]
        }
      ]
    },
    {
      "cell_type": "code",
      "source": [
        "inputs = train_input[0:1].reshape(-1,28,28,1)/255.0\n",
        "inputs.shape"
      ],
      "metadata": {
        "colab": {
          "base_uri": "https://localhost:8080/"
        },
        "id": "GJi8Cb9Meo1L",
        "outputId": "803f7b74-013d-4ede-f582-d6697f99a57d"
      },
      "execution_count": null,
      "outputs": [
        {
          "output_type": "execute_result",
          "data": {
            "text/plain": [
              "(1, 28, 28, 1)"
            ]
          },
          "metadata": {},
          "execution_count": 93
        }
      ]
    },
    {
      "cell_type": "code",
      "source": [
        "train_scaled[0:1].shape"
      ],
      "metadata": {
        "colab": {
          "base_uri": "https://localhost:8080/"
        },
        "id": "8To7fYEtevQI",
        "outputId": "fd4ea23e-6623-4398-e7ff-a22521351c0b"
      },
      "execution_count": null,
      "outputs": [
        {
          "output_type": "execute_result",
          "data": {
            "text/plain": [
              "(1, 28, 28, 1)"
            ]
          },
          "metadata": {},
          "execution_count": 94
        }
      ]
    },
    {
      "cell_type": "code",
      "source": [
        "feature_maps = conv_acti.predict(inputs)"
      ],
      "metadata": {
        "id": "OY5hJqx9fDOo"
      },
      "execution_count": null,
      "outputs": []
    },
    {
      "cell_type": "code",
      "source": [
        "print(feature_maps.shape)"
      ],
      "metadata": {
        "colab": {
          "base_uri": "https://localhost:8080/"
        },
        "id": "HTvSzORyfVCw",
        "outputId": "aa86d408-077d-4ae5-8ec9-443b0ad95e46"
      },
      "execution_count": null,
      "outputs": [
        {
          "output_type": "stream",
          "name": "stdout",
          "text": [
            "(1, 26, 26, 32)\n"
          ]
        }
      ]
    },
    {
      "cell_type": "code",
      "source": [
        "fig,axs = plt.subplots(4,8)\n",
        "for i in range(4):\n",
        "  for j in range(8):\n",
        "    axs[i,j].imshow(feature_maps[0,:,:,i*8+j])\n",
        "    axs[i,j].axis('off')\n",
        "plt.show()"
      ],
      "metadata": {
        "colab": {
          "base_uri": "https://localhost:8080/",
          "height": 237
        },
        "id": "C98Q1EU4fbU9",
        "outputId": "3f8cdba9-0cc4-45bc-a4e1-2e2007061ae4"
      },
      "execution_count": null,
      "outputs": [
        {
          "output_type": "display_data",
          "data": {
            "text/plain": [
              "<Figure size 432x288 with 32 Axes>"
            ],
            "image/png": "[encoded data removed]"
          },
          "metadata": {
            "needs_background": "light"
          }
        }
      ]
    },
    {
      "cell_type": "markdown",
      "source": [
        "# OpenCV\n",
        "\n",
        "HSV\n",
        "색조,체도,명도"
      ],
      "metadata": {
        "id": "oS-BrB1hirXQ"
      }
    },
    {
      "cell_type": "code",
      "source": [
        "import cv2\n",
        "from google.colab.patches import cv2_imshow"
      ],
      "metadata": {
        "id": "nLAfXz4eihOA"
      },
      "execution_count": null,
      "outputs": []
    },
    {
      "cell_type": "code",
      "source": [
        "image=np.zeros((100,255,3),np.uint8) #ch수=3 ,음수X"
      ],
      "metadata": {
        "id": "SaGs5Ytxjz6H"
      },
      "execution_count": null,
      "outputs": []
    },
    {
      "cell_type": "code",
      "source": [
        "for i in range(0,180):\n",
        "  image[:,i,0]=i #ch0\n",
        "image[:,:,1]=255\n",
        "image[:,:,2]=255\n",
        "img = cv2.cvtColor(image,cv2.COLOR_HSV2BGR)\n",
        "cv2_imshow(img)"
      ],
      "metadata": {
        "colab": {
          "base_uri": "https://localhost:8080/",
          "height": 117
        },
        "id": "90UvieGukCvL",
        "outputId": "644b7c32-e62e-4c0a-828f-9cd2aaf25858"
      },
      "execution_count": null,
      "outputs": [
        {
          "output_type": "display_data",
          "data": {
            "text/plain": [
              "<PIL.Image.Image image mode=RGB size=255x100 at 0x7F745312DBD0>"
            ],
            "image/png": "[encoded data removed]"
          },
          "metadata": {}
        }
      ]
    },
    {
      "cell_type": "code",
      "source": [
        "image=np.zeros((100,255,3),np.uint8)\n",
        "image[:,:,0]=0\n",
        "for i in range(0,255):\n",
        "  image[:,i,1]=i \n",
        "image[:,:,2]=255\n",
        "img = cv2.cvtColor(image,cv2.COLOR_HSV2BGR)\n",
        "cv2_imshow(img)"
      ],
      "metadata": {
        "colab": {
          "base_uri": "https://localhost:8080/",
          "height": 117
        },
        "id": "QYeX0-VYlkZx",
        "outputId": "d71cb483-0f4b-4833-9e16-55ada60273e9"
      },
      "execution_count": null,
      "outputs": [
        {
          "output_type": "display_data",
          "data": {
            "text/plain": [
              "<PIL.Image.Image image mode=RGB size=255x100 at 0x7F744D599CD0>"
            ],
            "image/png": "[encoded data removed]"
          },
          "metadata": {}
        }
      ]
    },
    {
      "cell_type": "code",
      "source": [
        "image=np.zeros((100,255,3),np.uint8)\n",
        "image[:,:,0]=0\n",
        "for i in range(0,255):\n",
        "  image[:,i,2]=i \n",
        "image[:,:,1]=255\n",
        "img = cv2.cvtColor(image,cv2.COLOR_HSV2BGR)\n",
        "cv2_imshow(img)"
      ],
      "metadata": {
        "colab": {
          "base_uri": "https://localhost:8080/",
          "height": 117
        },
        "id": "XkmpiCUIl_nA",
        "outputId": "92c8b4db-395e-4475-f8e5-8a84acbe1f2c"
      },
      "execution_count": null,
      "outputs": [
        {
          "output_type": "display_data",
          "data": {
            "text/plain": [
              "<PIL.Image.Image image mode=RGB size=255x100 at 0x7F745312DC50>"
            ],
            "image/png": "[encoded data removed]"
          },
          "metadata": {}
        }
      ]
    },
    {
      "cell_type": "code",
      "source": [
        "path = '/content/KakaoTalk_20220518_141744196.png'\n",
        "src_image = cv2.imread(path,cv2.IMREAD_COLOR)\n",
        "cv2_imshow(src_image)"
      ],
      "metadata": {
        "id": "8fELx-yTmnog"
      },
      "execution_count": null,
      "outputs": []
    },
    {
      "cell_type": "code",
      "source": [
        "cpy_image = src_image.copy()\n",
        "gray_image = cv2.cvtColor(src_image,cv2.COLOR_BGR2GRAY)\n",
        "cv2_imshow(gray_image)"
      ],
      "metadata": {
        "id": "fAnAUoFRm7Yq"
      },
      "execution_count": null,
      "outputs": []
    },
    {
      "cell_type": "code",
      "source": [
        "src_image.shape, gray_image.shape"
      ],
      "metadata": {
        "colab": {
          "base_uri": "https://localhost:8080/"
        },
        "id": "V0GKKqR7nQM6",
        "outputId": "6df0e5d8-1e41-47c5-8a3f-5d8556efc3a3"
      },
      "execution_count": null,
      "outputs": [
        {
          "output_type": "execute_result",
          "data": {
            "text/plain": [
              "((259, 532, 3), (259, 532))"
            ]
          },
          "metadata": {},
          "execution_count": 114
        }
      ]
    },
    {
      "cell_type": "code",
      "source": [
        "blur_image = cv2.GaussianBlur(gray_image,(3,3),0)\n",
        "cv2_imshow(blur_image)"
      ],
      "metadata": {
        "id": "RgODeMt3ncwH"
      },
      "execution_count": null,
      "outputs": []
    },
    {
      "cell_type": "code",
      "source": [
        "canny_image = cv2.Canny(blur_image,100,200)\n",
        "cv2_imshow(canny_image)"
      ],
      "metadata": {
        "id": "y9gyI8CuofI3"
      },
      "execution_count": null,
      "outputs": []
    },
    {
      "cell_type": "code",
      "source": [
        "contours, _ = cv2.findContours(canny_image,cv2.RETR_TREE,cv2.CHAIN_APPROX_SIMPLE)\n",
        "store_xywh=[]\n",
        "for contour in contours:\n",
        "  x,y,w,h = cv2.boundingRect(contour)\n",
        "  flag = False\n",
        "  if w>30 and h>=40:\n",
        "    for sv in store_xywh:\n",
        "      gx = abs(sv[0]-x)\n",
        "      gy = abs(sv[1]-y)\n",
        "      if gx<5 and gy<5:\n",
        "        flag = True\n",
        "        break\n",
        "  else:\n",
        "    flag = True\n",
        "  if flag == False:\n",
        "    store_xywh.append([x,y,w,h])\n",
        "for sv in store_xywh:\n",
        "  print(sv)"
      ],
      "metadata": {
        "colab": {
          "base_uri": "https://localhost:8080/"
        },
        "id": "_RtNIFgApNvD",
        "outputId": "9c2eabe6-3c7f-472b-a182-1f99002dc235"
      },
      "execution_count": null,
      "outputs": [
        {
          "output_type": "stream",
          "name": "stdout",
          "text": [
            "[414, 166, 49, 53]\n",
            "[137, 164, 35, 61]\n",
            "[39, 158, 42, 73]\n",
            "[216, 151, 39, 72]\n",
            "[317, 144, 43, 89]\n",
            "[123, 49, 66, 43]\n",
            "[421, 47, 75, 48]\n",
            "[55, 46, 36, 58]\n",
            "[218, 38, 45, 55]\n",
            "[321, 37, 64, 66]\n"
          ]
        }
      ]
    },
    {
      "cell_type": "code",
      "source": [
        "for sv in store_xywh:\n",
        "  x,y,w,h = sv\n",
        "  cv2.rectangle(src_image,(x-10,y-10),(x+w+20,y+h+20),(0,255,0),1)\n",
        "cv2_imshow(src_image)"
      ],
      "metadata": {
        "colab": {
          "base_uri": "https://localhost:8080/",
          "height": 276
        },
        "id": "bYEaWuKIrg4o",
        "outputId": "ad3dc4ef-6fa2-4c2d-e6c3-9742ec839953"
      },
      "execution_count": null,
      "outputs": [
        {
          "output_type": "display_data",
          "data": {
            "text/plain": [
              "<PIL.Image.Image image mode=RGB size=532x259 at 0x7F744BF28410>"
            ],
            "image/png": "[encoded data removed]"
          },
          "metadata": {}
        }
      ]
    },
    {
      "cell_type": "markdown",
      "source": [
        "# 손글씨"
      ],
      "metadata": {
        "id": "SRi3ofk4wyQB"
      }
    },
    {
      "cell_type": "code",
      "source": [
        "(image_train,label_train),(image_test,label_test) = keras.datasets.mnist.load_data()\n",
        "print(image_train.shape)"
      ],
      "metadata": {
        "colab": {
          "base_uri": "https://localhost:8080/"
        },
        "id": "DsTm1qAEwZwp",
        "outputId": "2074da47-7588-41eb-b0f4-6681d6abe5b4"
      },
      "execution_count": null,
      "outputs": [
        {
          "output_type": "stream",
          "name": "stdout",
          "text": [
            "(60000, 28, 28)\n"
          ]
        }
      ]
    },
    {
      "cell_type": "code",
      "source": [
        "np.unique(label_train,return_counts=True)"
      ],
      "metadata": {
        "colab": {
          "base_uri": "https://localhost:8080/"
        },
        "id": "VPWfiAAzw02B",
        "outputId": "f53ee3dc-0dc0-48b2-9f18-b05bd74303d6"
      },
      "execution_count": null,
      "outputs": [
        {
          "output_type": "execute_result",
          "data": {
            "text/plain": [
              "(array([0, 1, 2, 3, 4, 5, 6, 7, 8, 9], dtype=uint8),\n",
              " array([5923, 6742, 5958, 6131, 5842, 5421, 5918, 6265, 5851, 5949]))"
            ]
          },
          "metadata": {},
          "execution_count": 128
        }
      ]
    },
    {
      "cell_type": "code",
      "source": [
        "image_train2 = image_train.reshape(-1,28*28)\n",
        "image_test2 = image_test.reshape(-1,28*28)"
      ],
      "metadata": {
        "id": "flsUoHg9yODa"
      },
      "execution_count": null,
      "outputs": []
    },
    {
      "cell_type": "code",
      "source": [
        "from sklearn import svm #앙상블만큼 잘나옴"
      ],
      "metadata": {
        "id": "V3yVQdDwxQMJ"
      },
      "execution_count": null,
      "outputs": []
    },
    {
      "cell_type": "code",
      "source": [
        "svm = svm.SVC() #svm의 분류 모델 생성\n",
        "svm.fit(image_train2,label_train)"
      ],
      "metadata": {
        "colab": {
          "base_uri": "https://localhost:8080/"
        },
        "id": "rlcqJ9udx9fm",
        "outputId": "d6e6d189-e066-4b81-ea14-2f0892bbb645"
      },
      "execution_count": null,
      "outputs": [
        {
          "output_type": "execute_result",
          "data": {
            "text/plain": [
              "SVC()"
            ]
          },
          "metadata": {},
          "execution_count": 131
        }
      ]
    },
    {
      "cell_type": "code",
      "source": [
        "pval = svm.predict(image_test2)"
      ],
      "metadata": {
        "id": "lH8wbWXG0xT5"
      },
      "execution_count": null,
      "outputs": []
    },
    {
      "cell_type": "code",
      "source": [
        "from sklearn import metrics\n",
        "score = metrics.accuracy_score(pval,label_test)\n",
        "print(score)"
      ],
      "metadata": {
        "colab": {
          "base_uri": "https://localhost:8080/"
        },
        "id": "W3ezTihw07NT",
        "outputId": "81081c60-181f-49d5-f797-1cf47949fb74"
      },
      "execution_count": null,
      "outputs": [
        {
          "output_type": "stream",
          "name": "stdout",
          "text": [
            "0.9792\n"
          ]
        }
      ]
    },
    {
      "cell_type": "code",
      "source": [
        "from keras.utils import  np_utils\n",
        "label_train2 =  np_utils.to_categorical(label_train)\n",
        "label_test2 =  np_utils.to_categorical(label_test)\n",
        "print(label_train[0])\n",
        "print(label_train2[0])"
      ],
      "metadata": {
        "colab": {
          "base_uri": "https://localhost:8080/"
        },
        "id": "wGJiHlKm1ttl",
        "outputId": "7e967259-9bc2-4b15-d4e6-9fc90a24b0d5"
      },
      "execution_count": null,
      "outputs": [
        {
          "output_type": "stream",
          "name": "stdout",
          "text": [
            "5\n",
            "[0. 0. 0. 0. 0. 1. 0. 0. 0. 0.]\n"
          ]
        }
      ]
    },
    {
      "cell_type": "code",
      "source": [
        "scaled_train = image_train/255.0\n",
        "scaled_train = image_test/255.0"
      ],
      "metadata": {
        "id": "j4FoIp8g2fiU"
      },
      "execution_count": null,
      "outputs": []
    },
    {
      "cell_type": "code",
      "source": [
        "from keras import layers,models\n",
        "model = models.Sequential()\n",
        "model.add(layers.Dense(100,activation='relu',input_shape=(784,)))\n",
        "#model.add(layers.Dense(28,activation='relu'))\n",
        "model.add(layers.Dense(10,activation='softmax'))\n",
        "model.compile(loss=keras.losses.categorical_crossentropy,metrics=['accuracy'])\n",
        "history = model.fit(image_train2,label_train2,epochs=100)"
      ],
      "metadata": {
        "colab": {
          "base_uri": "https://localhost:8080/"
        },
        "id": "d5cmrAfY2qJS",
        "outputId": "53d0a3ac-010e-4b4c-feda-c17b8d883689"
      },
      "execution_count": null,
      "outputs": [
        {
          "output_type": "stream",
          "name": "stdout",
          "text": [
            "Epoch 1/100\n",
            "1875/1875 [==============================] - 8s 4ms/step - loss: 2.5511 - accuracy: 0.8725\n",
            "Epoch 2/100\n",
            "1875/1875 [==============================] - 7s 3ms/step - loss: 0.5749 - accuracy: 0.9233\n",
            "Epoch 3/100\n",
            "1875/1875 [==============================] - 7s 4ms/step - loss: 0.4919 - accuracy: 0.9395\n",
            "Epoch 4/100\n",
            "1875/1875 [==============================] - 7s 4ms/step - loss: 0.4562 - accuracy: 0.9456\n",
            "Epoch 5/100\n",
            "1875/1875 [==============================] - 7s 4ms/step - loss: 0.4163 - accuracy: 0.9503\n",
            "Epoch 6/100\n",
            "1875/1875 [==============================] - 7s 4ms/step - loss: 0.3978 - accuracy: 0.9550\n",
            "Epoch 7/100\n",
            "1875/1875 [==============================] - 7s 4ms/step - loss: 0.3669 - accuracy: 0.9582\n",
            "Epoch 8/100\n",
            "1875/1875 [==============================] - 7s 4ms/step - loss: 0.3624 - accuracy: 0.9605\n",
            "Epoch 9/100\n",
            "1875/1875 [==============================] - 7s 4ms/step - loss: 0.3672 - accuracy: 0.9628\n",
            "Epoch 10/100\n",
            "1875/1875 [==============================] - 7s 4ms/step - loss: 0.3314 - accuracy: 0.9652\n",
            "Epoch 11/100\n",
            "1875/1875 [==============================] - 7s 4ms/step - loss: 0.3246 - accuracy: 0.9674\n",
            "Epoch 12/100\n",
            "1875/1875 [==============================] - 7s 4ms/step - loss: 0.3186 - accuracy: 0.9688\n",
            "Epoch 13/100\n",
            "1875/1875 [==============================] - 7s 3ms/step - loss: 0.2965 - accuracy: 0.9693\n",
            "Epoch 14/100\n",
            "1875/1875 [==============================] - 7s 3ms/step - loss: 0.2891 - accuracy: 0.9707\n",
            "Epoch 15/100\n",
            "1875/1875 [==============================] - 6s 3ms/step - loss: 0.2817 - accuracy: 0.9732\n",
            "Epoch 16/100\n",
            "1875/1875 [==============================] - 6s 3ms/step - loss: 0.2789 - accuracy: 0.9733\n",
            "Epoch 17/100\n",
            "1875/1875 [==============================] - 7s 4ms/step - loss: 0.2677 - accuracy: 0.9739\n",
            "Epoch 18/100\n",
            "1875/1875 [==============================] - 7s 4ms/step - loss: 0.2700 - accuracy: 0.9751\n",
            "Epoch 19/100\n",
            "1875/1875 [==============================] - 7s 4ms/step - loss: 0.2572 - accuracy: 0.9756\n",
            "Epoch 20/100\n",
            "1875/1875 [==============================] - 6s 3ms/step - loss: 0.2440 - accuracy: 0.9767\n",
            "Epoch 21/100\n",
            "1875/1875 [==============================] - 7s 4ms/step - loss: 0.2477 - accuracy: 0.9778\n",
            "Epoch 22/100\n",
            "1875/1875 [==============================] - 7s 4ms/step - loss: 0.2189 - accuracy: 0.9779\n",
            "Epoch 23/100\n",
            "1875/1875 [==============================] - 7s 4ms/step - loss: 0.2162 - accuracy: 0.9795\n",
            "Epoch 24/100\n",
            "1875/1875 [==============================] - 7s 4ms/step - loss: 0.2110 - accuracy: 0.9805\n",
            "Epoch 25/100\n",
            "1875/1875 [==============================] - 6s 3ms/step - loss: 0.2003 - accuracy: 0.9814\n",
            "Epoch 26/100\n",
            "1875/1875 [==============================] - 7s 4ms/step - loss: 0.2076 - accuracy: 0.9806\n",
            "Epoch 27/100\n",
            "1875/1875 [==============================] - 7s 4ms/step - loss: 0.1946 - accuracy: 0.9820\n",
            "Epoch 28/100\n",
            "1875/1875 [==============================] - 7s 4ms/step - loss: 0.1976 - accuracy: 0.9822\n",
            "Epoch 29/100\n",
            "1875/1875 [==============================] - 7s 4ms/step - loss: 0.1963 - accuracy: 0.9830\n",
            "Epoch 30/100\n",
            "1875/1875 [==============================] - 7s 4ms/step - loss: 0.1890 - accuracy: 0.9831\n",
            "Epoch 31/100\n",
            "1875/1875 [==============================] - 7s 4ms/step - loss: 0.1811 - accuracy: 0.9844\n",
            "Epoch 32/100\n",
            "1875/1875 [==============================] - 7s 3ms/step - loss: 0.1776 - accuracy: 0.9843\n",
            "Epoch 33/100\n",
            "1875/1875 [==============================] - 7s 4ms/step - loss: 0.1905 - accuracy: 0.9842\n",
            "Epoch 34/100\n",
            "1875/1875 [==============================] - 7s 4ms/step - loss: 0.1744 - accuracy: 0.9847\n",
            "Epoch 35/100\n",
            "1875/1875 [==============================] - 7s 4ms/step - loss: 0.1629 - accuracy: 0.9853\n",
            "Epoch 36/100\n",
            "1875/1875 [==============================] - 7s 4ms/step - loss: 0.1564 - accuracy: 0.9857\n",
            "Epoch 37/100\n",
            "1875/1875 [==============================] - 7s 4ms/step - loss: 0.1530 - accuracy: 0.9863\n",
            "Epoch 38/100\n",
            "1875/1875 [==============================] - 8s 4ms/step - loss: 0.1546 - accuracy: 0.9858\n",
            "Epoch 39/100\n",
            "1875/1875 [==============================] - 7s 4ms/step - loss: 0.1428 - accuracy: 0.9869\n",
            "Epoch 40/100\n",
            "1875/1875 [==============================] - 7s 4ms/step - loss: 0.1413 - accuracy: 0.9867\n",
            "Epoch 41/100\n",
            "1875/1875 [==============================] - 7s 4ms/step - loss: 0.1432 - accuracy: 0.9876\n",
            "Epoch 42/100\n",
            "1875/1875 [==============================] - 7s 3ms/step - loss: 0.1395 - accuracy: 0.9875\n",
            "Epoch 43/100\n",
            "1875/1875 [==============================] - 7s 4ms/step - loss: 0.1343 - accuracy: 0.9880\n",
            "Epoch 44/100\n",
            "1875/1875 [==============================] - 8s 4ms/step - loss: 0.1419 - accuracy: 0.9882\n",
            "Epoch 45/100\n",
            "1875/1875 [==============================] - 8s 4ms/step - loss: 0.1238 - accuracy: 0.9888\n",
            "Epoch 46/100\n",
            "1875/1875 [==============================] - 8s 4ms/step - loss: 0.1369 - accuracy: 0.9888\n",
            "Epoch 47/100\n",
            "1875/1875 [==============================] - 7s 4ms/step - loss: 0.1234 - accuracy: 0.9895\n",
            "Epoch 48/100\n",
            "1875/1875 [==============================] - 7s 4ms/step - loss: 0.1169 - accuracy: 0.9894\n",
            "Epoch 49/100\n",
            "1875/1875 [==============================] - 7s 4ms/step - loss: 0.1126 - accuracy: 0.9899\n",
            "Epoch 50/100\n",
            "1875/1875 [==============================] - 7s 4ms/step - loss: 0.1024 - accuracy: 0.9902\n",
            "Epoch 51/100\n",
            "1875/1875 [==============================] - 8s 4ms/step - loss: 0.1239 - accuracy: 0.9893\n",
            "Epoch 52/100\n",
            "1875/1875 [==============================] - 7s 4ms/step - loss: 0.1086 - accuracy: 0.9899\n",
            "Epoch 53/100\n",
            "1875/1875 [==============================] - 8s 4ms/step - loss: 0.1070 - accuracy: 0.9902\n",
            "Epoch 54/100\n",
            "1875/1875 [==============================] - 7s 4ms/step - loss: 0.1117 - accuracy: 0.9899\n",
            "Epoch 55/100\n",
            "1875/1875 [==============================] - 8s 4ms/step - loss: 0.1075 - accuracy: 0.9903\n",
            "Epoch 56/100\n",
            "1875/1875 [==============================] - 8s 4ms/step - loss: 0.1085 - accuracy: 0.9909\n",
            "Epoch 57/100\n",
            "1875/1875 [==============================] - 7s 4ms/step - loss: 0.1043 - accuracy: 0.9906\n",
            "Epoch 58/100\n",
            "1875/1875 [==============================] - 7s 4ms/step - loss: 0.0993 - accuracy: 0.9911\n",
            "Epoch 59/100\n",
            "1875/1875 [==============================] - 9s 5ms/step - loss: 0.1062 - accuracy: 0.9912\n",
            "Epoch 60/100\n",
            "1875/1875 [==============================] - 8s 4ms/step - loss: 0.1001 - accuracy: 0.9911\n",
            "Epoch 61/100\n",
            "1875/1875 [==============================] - 8s 4ms/step - loss: 0.0870 - accuracy: 0.9917\n",
            "Epoch 62/100\n",
            "1875/1875 [==============================] - 7s 4ms/step - loss: 0.1003 - accuracy: 0.9915\n",
            "Epoch 63/100\n",
            "1875/1875 [==============================] - 6s 3ms/step - loss: 0.0953 - accuracy: 0.9916\n",
            "Epoch 64/100\n",
            "1875/1875 [==============================] - 7s 4ms/step - loss: 0.0942 - accuracy: 0.9917\n",
            "Epoch 65/100\n",
            "1875/1875 [==============================] - 7s 4ms/step - loss: 0.0926 - accuracy: 0.9921\n",
            "Epoch 66/100\n",
            "1875/1875 [==============================] - 7s 4ms/step - loss: 0.0971 - accuracy: 0.9921\n",
            "Epoch 67/100\n",
            "1875/1875 [==============================] - 7s 4ms/step - loss: 0.0818 - accuracy: 0.9925\n",
            "Epoch 68/100\n",
            "1875/1875 [==============================] - 7s 4ms/step - loss: 0.0809 - accuracy: 0.9928\n",
            "Epoch 69/100\n",
            "1875/1875 [==============================] - 7s 4ms/step - loss: 0.0920 - accuracy: 0.9926\n",
            "Epoch 70/100\n",
            "1875/1875 [==============================] - 7s 3ms/step - loss: 0.0873 - accuracy: 0.9926\n",
            "Epoch 71/100\n",
            "1875/1875 [==============================] - 7s 4ms/step - loss: 0.0896 - accuracy: 0.9927\n",
            "Epoch 72/100\n",
            "1875/1875 [==============================] - 7s 4ms/step - loss: 0.0871 - accuracy: 0.9928\n",
            "Epoch 73/100\n",
            "1875/1875 [==============================] - 7s 4ms/step - loss: 0.0852 - accuracy: 0.9930\n",
            "Epoch 74/100\n",
            "1875/1875 [==============================] - 6s 3ms/step - loss: 0.0885 - accuracy: 0.9924\n",
            "Epoch 75/100\n",
            "1875/1875 [==============================] - 7s 4ms/step - loss: 0.0732 - accuracy: 0.9936\n",
            "Epoch 76/100\n",
            "1875/1875 [==============================] - 7s 4ms/step - loss: 0.0786 - accuracy: 0.9937\n",
            "Epoch 77/100\n",
            "1875/1875 [==============================] - 7s 4ms/step - loss: 0.0720 - accuracy: 0.9937\n",
            "Epoch 78/100\n",
            "1875/1875 [==============================] - 7s 4ms/step - loss: 0.0716 - accuracy: 0.9936\n",
            "Epoch 79/100\n",
            "1875/1875 [==============================] - 7s 4ms/step - loss: 0.0765 - accuracy: 0.9936\n",
            "Epoch 80/100\n",
            "1875/1875 [==============================] - 6s 3ms/step - loss: 0.0790 - accuracy: 0.9934\n",
            "Epoch 81/100\n",
            "1875/1875 [==============================] - 6s 3ms/step - loss: 0.0674 - accuracy: 0.9936\n",
            "Epoch 82/100\n",
            "1875/1875 [==============================] - 7s 4ms/step - loss: 0.0658 - accuracy: 0.9938\n",
            "Epoch 83/100\n",
            "1875/1875 [==============================] - 6s 3ms/step - loss: 0.0813 - accuracy: 0.9934\n",
            "Epoch 84/100\n",
            "1875/1875 [==============================] - 6s 3ms/step - loss: 0.0746 - accuracy: 0.9937\n",
            "Epoch 85/100\n",
            "1875/1875 [==============================] - 6s 3ms/step - loss: 0.0725 - accuracy: 0.9937\n",
            "Epoch 86/100\n",
            "1875/1875 [==============================] - 7s 4ms/step - loss: 0.0746 - accuracy: 0.9936\n",
            "Epoch 87/100\n",
            "1875/1875 [==============================] - 7s 4ms/step - loss: 0.0572 - accuracy: 0.9945\n",
            "Epoch 88/100\n",
            "1875/1875 [==============================] - 7s 4ms/step - loss: 0.0624 - accuracy: 0.9944\n",
            "Epoch 89/100\n",
            "1875/1875 [==============================] - 7s 4ms/step - loss: 0.0538 - accuracy: 0.9946\n",
            "Epoch 90/100\n",
            "1875/1875 [==============================] - 7s 3ms/step - loss: 0.0609 - accuracy: 0.9943\n",
            "Epoch 91/100\n",
            "1875/1875 [==============================] - 7s 4ms/step - loss: 0.0601 - accuracy: 0.9946\n",
            "Epoch 92/100\n",
            "1875/1875 [==============================] - 7s 4ms/step - loss: 0.0544 - accuracy: 0.9951\n",
            "Epoch 93/100\n",
            "1875/1875 [==============================] - 7s 4ms/step - loss: 0.0586 - accuracy: 0.9948\n",
            "Epoch 94/100\n",
            "1875/1875 [==============================] - 7s 4ms/step - loss: 0.0571 - accuracy: 0.9948\n",
            "Epoch 95/100\n",
            "1875/1875 [==============================] - 7s 4ms/step - loss: 0.0608 - accuracy: 0.9945\n",
            "Epoch 96/100\n",
            "1875/1875 [==============================] - 7s 4ms/step - loss: 0.0542 - accuracy: 0.9948\n",
            "Epoch 97/100\n",
            "1875/1875 [==============================] - 7s 4ms/step - loss: 0.0569 - accuracy: 0.9950\n",
            "Epoch 98/100\n",
            "1875/1875 [==============================] - 7s 3ms/step - loss: 0.0533 - accuracy: 0.9953\n",
            "Epoch 99/100\n",
            "1875/1875 [==============================] - 6s 3ms/step - loss: 0.0459 - accuracy: 0.9952\n",
            "Epoch 100/100\n",
            "1875/1875 [==============================] - 6s 3ms/step - loss: 0.0594 - accuracy: 0.9949\n"
          ]
        }
      ]
    },
    {
      "cell_type": "code",
      "source": [
        "score=model.evaluate(image_test2,label_test2)\n",
        "print(score)"
      ],
      "metadata": {
        "colab": {
          "base_uri": "https://localhost:8080/"
        },
        "id": "PqdBni9E4w0S",
        "outputId": "d4842a91-54d7-4ca7-f93f-822c0686a515"
      },
      "execution_count": null,
      "outputs": [
        {
          "output_type": "stream",
          "name": "stdout",
          "text": [
            "313/313 [==============================] - 1s 2ms/step - loss: 2.4069 - accuracy: 0.9641\n",
            "[2.4069037437438965, 0.9641000032424927]\n"
          ]
        }
      ]
    },
    {
      "cell_type": "code",
      "source": [
        ""
      ],
      "metadata": {
        "id": "x1fxFiP87ZOh"
      },
      "execution_count": null,
      "outputs": []
    }
  ]
}